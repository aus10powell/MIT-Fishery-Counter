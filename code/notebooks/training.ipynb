{
 "cells": [
  {
   "attachments": {},
   "cell_type": "markdown",
   "metadata": {},
   "source": [
    "# Training YOLO with Ultralytics pipeline"
   ]
  },
  {
   "cell_type": "code",
   "execution_count": 48,
   "metadata": {},
   "outputs": [
    {
     "name": "stderr",
     "output_type": "stream",
     "text": [
      "Ultralytics YOLOv8.0.120 🚀 Python-3.8.16 torch-2.0.1 CPU\n",
      "Setup complete ✅ (10 CPUs, 32.0 GB RAM, 405.0/926.4 GB disk)\n"
     ]
    },
    {
     "name": "stdout",
     "output_type": "stream",
     "text": [
      "True\n",
      "True\n",
      "The lab_black extension is already loaded. To reload it, use:\n",
      "  %reload_ext lab_black\n"
     ]
    },
    {
     "data": {
      "application/javascript": "\n            setTimeout(function() {\n                var nbb_cell_id = 48;\n                var nbb_unformatted_code = \"from ultralytics import YOLO\\nimport os, sys\\nfrom tqdm.notebook import tqdm\\nimport ultralytics\\nultralytics.checks()\\n\\nimport torch\\nimport math\\n# this ensures that the current MacOS version is at least 12.3+\\nprint(torch.backends.mps.is_available())\\n# this ensures that the current current PyTorch installation was built with MPS activated.\\nprint(torch.backends.mps.is_built())\\n\\n%matplotlib inline\\n\\nassert sys.version_info >= (3, 8), \\\"Python 3.8  is required.\\\"\\n%load_ext lab_black\";\n                var nbb_formatted_code = \"from ultralytics import YOLO\\nimport os, sys\\nfrom tqdm.notebook import tqdm\\nimport ultralytics\\n\\nultralytics.checks()\\n\\nimport torch\\nimport math\\n\\n# this ensures that the current MacOS version is at least 12.3+\\nprint(torch.backends.mps.is_available())\\n# this ensures that the current current PyTorch installation was built with MPS activated.\\nprint(torch.backends.mps.is_built())\\n\\n%matplotlib inline\\n\\nassert sys.version_info >= (3, 8), \\\"Python 3.8  is required.\\\"\\n%load_ext lab_black\";\n                var nbb_cells = Jupyter.notebook.get_cells();\n                for (var i = 0; i < nbb_cells.length; ++i) {\n                    if (nbb_cells[i].input_prompt_number == nbb_cell_id) {\n                        if (nbb_cells[i].get_text() == nbb_unformatted_code) {\n                             nbb_cells[i].set_text(nbb_formatted_code);\n                        }\n                        break;\n                    }\n                }\n            }, 500);\n            ",
      "text/plain": [
       "<IPython.core.display.Javascript object>"
      ]
     },
     "metadata": {},
     "output_type": "display_data"
    }
   ],
   "source": [
    "from ultralytics import YOLO\n",
    "import os, sys\n",
    "from tqdm.notebook import tqdm\n",
    "import ultralytics\n",
    "\n",
    "ultralytics.checks()\n",
    "\n",
    "import torch\n",
    "import math\n",
    "\n",
    "# this ensures that the current MacOS version is at least 12.3+\n",
    "print(torch.backends.mps.is_available())\n",
    "# this ensures that the current current PyTorch installation was built with MPS activated.\n",
    "print(torch.backends.mps.is_built())\n",
    "\n",
    "%matplotlib inline\n",
    "\n",
    "assert sys.version_info >= (3, 8), \"Python 3.8  is required.\"\n",
    "%load_ext lab_black"
   ]
  },
  {
   "cell_type": "code",
   "execution_count": 2,
   "metadata": {},
   "outputs": [],
   "source": [
    "# Load a model\n",
    "#model = YOLO('yolov8n.yaml')  # build a new model from scratch\n",
    "model = YOLO('yolov8m.pt')  # load a pretrained model (recommended for training)\n",
    "\n",
    "# # If using MPS on Apple Silicon\n",
    "# if torch.backends.mps.is_built():\n",
    "#     mps_device = torch.device(\"mps\")\n",
    "#     model.to(mps_device)\n",
    "\n",
    "# # OPTIONAL for memory errors\n",
    "# # Set the value of PYTORCH_MPS_HIGH_WATERMARK_RATIO\n",
    "# os.environ[\"PYTORCH_MPS_HIGH_WATERMARK_RATIO\"] =  \"0.3\""
   ]
  },
  {
   "attachments": {},
   "cell_type": "markdown",
   "metadata": {},
   "source": [
    "## Train"
   ]
  },
  {
   "cell_type": "code",
   "execution_count": 3,
   "metadata": {},
   "outputs": [
    {
     "ename": "AttributeError",
     "evalue": "module 'wandb' has no attribute 'init'",
     "output_type": "error",
     "traceback": [
      "\u001b[0;31m---------------------------------------------------------------------------\u001b[0m",
      "\u001b[0;31mAttributeError\u001b[0m                            Traceback (most recent call last)",
      "Cell \u001b[0;32mIn[3], line 2\u001b[0m\n\u001b[1;32m      1\u001b[0m \u001b[39mimport\u001b[39;00m \u001b[39mwandb\u001b[39;00m\n\u001b[0;32m----> 2\u001b[0m wandb\u001b[39m.\u001b[39;49minit(project\u001b[39m=\u001b[39m\u001b[39m\"\u001b[39m\u001b[39mMITFisheryHerring\u001b[39m\u001b[39m\"\u001b[39m,notes\u001b[39m=\u001b[39m\u001b[39m\"\u001b[39m\u001b[39mMIT Fishery robo analytics Outputs per training example: 2 Blur: Up to 4px. Now added ~50 more images. Also training on yolov8m vs yolov8n\u001b[39m\u001b[39m\"\u001b[39m)\n",
      "\u001b[0;31mAttributeError\u001b[0m: module 'wandb' has no attribute 'init'"
     ]
    }
   ],
   "source": [
    "import wandb\n",
    "wandb.init(project=\"MITFisheryHerring\",notes=\"MIT Fishery robo analytics Outputs per training example: 2 Blur: Up to 4px. Now added ~50 more images. Also training on yolov8m vs yolov8n\")"
   ]
  },
  {
   "cell_type": "code",
   "execution_count": null,
   "metadata": {},
   "outputs": [
    {
     "name": "stderr",
     "output_type": "stream",
     "text": [
      "New https://pypi.org/project/ultralytics/8.0.120 available 😃 Update with 'pip install -U ultralytics'\n",
      "Ultralytics YOLOv8.0.118 🚀 Python-3.9.16 torch-2.0.1 MPS\n",
      "\u001b[34m\u001b[1myolo/engine/trainer: \u001b[0mtask=detect, mode=train, model=yolov8n.pt, data=river_herring.yaml, epochs=15, patience=50, batch=16, imgsz=640, save=True, save_period=-1, cache=False, device=mps, workers=8, project=None, name=None, exist_ok=False, pretrained=False, optimizer=auto, verbose=True, seed=0, deterministic=True, single_cls=False, rect=False, cos_lr=False, close_mosaic=0, resume=False, amp=True, fraction=1.0, profile=False, overlap_mask=True, mask_ratio=4, dropout=0.4, val=True, split=val, save_json=False, save_hybrid=False, conf=None, iou=0.7, max_det=300, half=False, dnn=False, plots=True, source=None, show=False, save_txt=False, save_conf=False, save_crop=False, show_labels=True, show_conf=True, vid_stride=1, line_width=None, visualize=False, augment=False, agnostic_nms=False, classes=None, retina_masks=False, boxes=True, format=torchscript, keras=False, optimize=False, int8=False, dynamic=False, simplify=False, opset=None, workspace=4, nms=False, lr0=0.01, lrf=0.01, momentum=0.937, weight_decay=0.0005, warmup_epochs=3.0, warmup_momentum=0.8, warmup_bias_lr=0.1, box=7.5, cls=0.5, dfl=1.5, pose=12.0, kobj=1.0, label_smoothing=0.0, nbs=64, hsv_h=0.015, hsv_s=0.7, hsv_v=0.4, degrees=0.0, translate=0.1, scale=0.5, shear=0.0, perspective=0.0, flipud=0.0, fliplr=0.5, mosaic=1.0, mixup=0.0, copy_paste=0.0, cfg=None, v5loader=False, tracker=botsort.yaml, save_dir=runs/detect/train39\n"
     ]
    },
    {
     "ename": "RuntimeError",
     "evalue": "Dataset 'river_herring.yaml' error ❌ river_herring.yaml 'val:' key missing ❌.\n'train' and 'val' are required in all data YAMLs.",
     "output_type": "error",
     "traceback": [
      "\u001b[0;31m---------------------------------------------------------------------------\u001b[0m",
      "\u001b[0;31mSyntaxError\u001b[0m                               Traceback (most recent call last)",
      "File \u001b[0;32m~/anaconda3/envs/py39/lib/python3.9/site-packages/ultralytics/yolo/engine/trainer.py:123\u001b[0m, in \u001b[0;36mBaseTrainer.__init__\u001b[0;34m(self, cfg, overrides, _callbacks)\u001b[0m\n\u001b[1;32m    122\u001b[0m \u001b[39melif\u001b[39;00m \u001b[39mself\u001b[39m\u001b[39m.\u001b[39margs\u001b[39m.\u001b[39mdata\u001b[39m.\u001b[39mendswith(\u001b[39m'\u001b[39m\u001b[39m.yaml\u001b[39m\u001b[39m'\u001b[39m) \u001b[39mor\u001b[39;00m \u001b[39mself\u001b[39m\u001b[39m.\u001b[39margs\u001b[39m.\u001b[39mtask \u001b[39min\u001b[39;00m (\u001b[39m'\u001b[39m\u001b[39mdetect\u001b[39m\u001b[39m'\u001b[39m, \u001b[39m'\u001b[39m\u001b[39msegment\u001b[39m\u001b[39m'\u001b[39m):\n\u001b[0;32m--> 123\u001b[0m     \u001b[39mself\u001b[39m\u001b[39m.\u001b[39mdata \u001b[39m=\u001b[39m check_det_dataset(\u001b[39mself\u001b[39;49m\u001b[39m.\u001b[39;49margs\u001b[39m.\u001b[39;49mdata)\n\u001b[1;32m    124\u001b[0m     \u001b[39mif\u001b[39;00m \u001b[39m'\u001b[39m\u001b[39myaml_file\u001b[39m\u001b[39m'\u001b[39m \u001b[39min\u001b[39;00m \u001b[39mself\u001b[39m\u001b[39m.\u001b[39mdata:\n",
      "File \u001b[0;32m~/anaconda3/envs/py39/lib/python3.9/site-packages/ultralytics/yolo/data/utils.py:211\u001b[0m, in \u001b[0;36mcheck_det_dataset\u001b[0;34m(dataset, autodownload)\u001b[0m\n\u001b[1;32m    210\u001b[0m     \u001b[39mif\u001b[39;00m k \u001b[39mnot\u001b[39;00m \u001b[39min\u001b[39;00m data:\n\u001b[0;32m--> 211\u001b[0m         \u001b[39mraise\u001b[39;00m \u001b[39mSyntaxError\u001b[39;00m(\n\u001b[1;32m    212\u001b[0m             emojis(\u001b[39mf\u001b[39m\u001b[39m\"\u001b[39m\u001b[39m{\u001b[39;00mdataset\u001b[39m}\u001b[39;00m\u001b[39m \u001b[39m\u001b[39m'\u001b[39m\u001b[39m{\u001b[39;00mk\u001b[39m}\u001b[39;00m\u001b[39m:\u001b[39m\u001b[39m'\u001b[39m\u001b[39m key missing ❌.\u001b[39m\u001b[39m\\n\u001b[39;00m\u001b[39m'\u001b[39m\u001b[39mtrain\u001b[39m\u001b[39m'\u001b[39m\u001b[39m and \u001b[39m\u001b[39m'\u001b[39m\u001b[39mval\u001b[39m\u001b[39m'\u001b[39m\u001b[39m are required in all data YAMLs.\u001b[39m\u001b[39m\"\u001b[39m))\n\u001b[1;32m    213\u001b[0m \u001b[39mif\u001b[39;00m \u001b[39m'\u001b[39m\u001b[39mnames\u001b[39m\u001b[39m'\u001b[39m \u001b[39mnot\u001b[39;00m \u001b[39min\u001b[39;00m data \u001b[39mand\u001b[39;00m \u001b[39m'\u001b[39m\u001b[39mnc\u001b[39m\u001b[39m'\u001b[39m \u001b[39mnot\u001b[39;00m \u001b[39min\u001b[39;00m data:\n",
      "\u001b[0;31mSyntaxError\u001b[0m: river_herring.yaml 'val:' key missing ❌.\n'train' and 'val' are required in all data YAMLs.",
      "\nThe above exception was the direct cause of the following exception:\n",
      "\u001b[0;31mRuntimeError\u001b[0m                              Traceback (most recent call last)",
      "Cell \u001b[0;32mIn[4], line 2\u001b[0m\n\u001b[1;32m      1\u001b[0m \u001b[39m# Use the model\u001b[39;00m\n\u001b[0;32m----> 2\u001b[0m results \u001b[39m=\u001b[39m model\u001b[39m.\u001b[39;49mtrain(data\u001b[39m=\u001b[39;49m\u001b[39m'\u001b[39;49m\u001b[39mriver_herring.yaml\u001b[39;49m\u001b[39m'\u001b[39;49m, epochs\u001b[39m=\u001b[39;49m\u001b[39m15\u001b[39;49m,dropout\u001b[39m=\u001b[39;49m\u001b[39m0.4\u001b[39;49m,device\u001b[39m=\u001b[39;49m\u001b[39m'\u001b[39;49m\u001b[39mmps\u001b[39;49m\u001b[39m'\u001b[39;49m)\n",
      "File \u001b[0;32m~/anaconda3/envs/py39/lib/python3.9/site-packages/ultralytics/yolo/engine/model.py:366\u001b[0m, in \u001b[0;36mYOLO.train\u001b[0;34m(self, **kwargs)\u001b[0m\n\u001b[1;32m    364\u001b[0m     overrides[\u001b[39m'\u001b[39m\u001b[39mresume\u001b[39m\u001b[39m'\u001b[39m] \u001b[39m=\u001b[39m \u001b[39mself\u001b[39m\u001b[39m.\u001b[39mckpt_path\n\u001b[1;32m    365\u001b[0m \u001b[39mself\u001b[39m\u001b[39m.\u001b[39mtask \u001b[39m=\u001b[39m overrides\u001b[39m.\u001b[39mget(\u001b[39m'\u001b[39m\u001b[39mtask\u001b[39m\u001b[39m'\u001b[39m) \u001b[39mor\u001b[39;00m \u001b[39mself\u001b[39m\u001b[39m.\u001b[39mtask\n\u001b[0;32m--> 366\u001b[0m \u001b[39mself\u001b[39m\u001b[39m.\u001b[39mtrainer \u001b[39m=\u001b[39m TASK_MAP[\u001b[39mself\u001b[39;49m\u001b[39m.\u001b[39;49mtask][\u001b[39m1\u001b[39;49m](overrides\u001b[39m=\u001b[39;49moverrides, _callbacks\u001b[39m=\u001b[39;49m\u001b[39mself\u001b[39;49m\u001b[39m.\u001b[39;49mcallbacks)\n\u001b[1;32m    367\u001b[0m \u001b[39mif\u001b[39;00m \u001b[39mnot\u001b[39;00m overrides\u001b[39m.\u001b[39mget(\u001b[39m'\u001b[39m\u001b[39mresume\u001b[39m\u001b[39m'\u001b[39m):  \u001b[39m# manually set model only if not resuming\u001b[39;00m\n\u001b[1;32m    368\u001b[0m     \u001b[39mself\u001b[39m\u001b[39m.\u001b[39mtrainer\u001b[39m.\u001b[39mmodel \u001b[39m=\u001b[39m \u001b[39mself\u001b[39m\u001b[39m.\u001b[39mtrainer\u001b[39m.\u001b[39mget_model(weights\u001b[39m=\u001b[39m\u001b[39mself\u001b[39m\u001b[39m.\u001b[39mmodel \u001b[39mif\u001b[39;00m \u001b[39mself\u001b[39m\u001b[39m.\u001b[39mckpt \u001b[39melse\u001b[39;00m \u001b[39mNone\u001b[39;00m, cfg\u001b[39m=\u001b[39m\u001b[39mself\u001b[39m\u001b[39m.\u001b[39mmodel\u001b[39m.\u001b[39myaml)\n",
      "File \u001b[0;32m~/anaconda3/envs/py39/lib/python3.9/site-packages/ultralytics/yolo/engine/trainer.py:127\u001b[0m, in \u001b[0;36mBaseTrainer.__init__\u001b[0;34m(self, cfg, overrides, _callbacks)\u001b[0m\n\u001b[1;32m    125\u001b[0m             \u001b[39mself\u001b[39m\u001b[39m.\u001b[39margs\u001b[39m.\u001b[39mdata \u001b[39m=\u001b[39m \u001b[39mself\u001b[39m\u001b[39m.\u001b[39mdata[\u001b[39m'\u001b[39m\u001b[39myaml_file\u001b[39m\u001b[39m'\u001b[39m]  \u001b[39m# for validating 'yolo train data=url.zip' usage\u001b[39;00m\n\u001b[1;32m    126\u001b[0m \u001b[39mexcept\u001b[39;00m \u001b[39mException\u001b[39;00m \u001b[39mas\u001b[39;00m e:\n\u001b[0;32m--> 127\u001b[0m     \u001b[39mraise\u001b[39;00m \u001b[39mRuntimeError\u001b[39;00m(emojis(\u001b[39mf\u001b[39m\u001b[39m\"\u001b[39m\u001b[39mDataset \u001b[39m\u001b[39m'\u001b[39m\u001b[39m{\u001b[39;00mclean_url(\u001b[39mself\u001b[39m\u001b[39m.\u001b[39margs\u001b[39m.\u001b[39mdata)\u001b[39m}\u001b[39;00m\u001b[39m'\u001b[39m\u001b[39m error ❌ \u001b[39m\u001b[39m{\u001b[39;00me\u001b[39m}\u001b[39;00m\u001b[39m\"\u001b[39m)) \u001b[39mfrom\u001b[39;00m \u001b[39me\u001b[39;00m\n\u001b[1;32m    129\u001b[0m \u001b[39mself\u001b[39m\u001b[39m.\u001b[39mtrainset, \u001b[39mself\u001b[39m\u001b[39m.\u001b[39mtestset \u001b[39m=\u001b[39m \u001b[39mself\u001b[39m\u001b[39m.\u001b[39mget_dataset(\u001b[39mself\u001b[39m\u001b[39m.\u001b[39mdata)\n\u001b[1;32m    130\u001b[0m \u001b[39mself\u001b[39m\u001b[39m.\u001b[39mema \u001b[39m=\u001b[39m \u001b[39mNone\u001b[39;00m\n",
      "\u001b[0;31mRuntimeError\u001b[0m: Dataset 'river_herring.yaml' error ❌ river_herring.yaml 'val:' key missing ❌.\n'train' and 'val' are required in all data YAMLs."
     ]
    }
   ],
   "source": [
    "# Use the model\n",
    "results = model.train(data='river_herring.yaml', epochs=15,dropout=0.4,device='mps')  # can also try mps"
   ]
  },
  {
   "cell_type": "code",
   "execution_count": 5,
   "metadata": {},
   "outputs": [
    {
     "name": "stderr",
     "output_type": "stream",
     "text": [
      "Ultralytics YOLOv8.0.118 🚀 Python-3.9.16 torch-2.0.1 MPS\n",
      "Model summary (fused): 168 layers, 3005843 parameters, 0 gradients\n",
      "\u001b[34m\u001b[1mval: \u001b[0mScanning /Users/aus10powell/Documents/Projects/MIT-Fishery-Counter/data/datasets/MITRiverHerringTemp2/valid/labels.cache... 94 images, 0 backgrounds, 0 corrupt: 100%|██████████| 94/94 [00:00<?, ?it/s]\n",
      "                 Class     Images  Instances      Box(P          R      mAP50  mAP50-95): 100%|██████████| 6/6 [00:26<00:00,  4.49s/it]\n",
      "                   all         94        112      0.925      0.964      0.967      0.683\n",
      "Speed: 5.9ms preprocess, 256.6ms inference, 0.0ms loss, 0.9ms postprocess per image\n",
      "Results saved to \u001b[1mruns/detect/val13\u001b[0m\n"
     ]
    },
    {
     "data": {
      "text/plain": [
       "array([    0.68346])"
      ]
     },
     "execution_count": 5,
     "metadata": {},
     "output_type": "execute_result"
    }
   ],
   "source": [
    "# Validate the model\n",
    "metrics = model.val()  # no arguments needed, dataset and settings remembered\n",
    "metrics.box.map    # map50-95\n",
    "metrics.box.map50  # map50\n",
    "metrics.box.map75  # map75\n",
    "metrics.box.maps   # a list contains map50-95 of each category"
   ]
  },
  {
   "cell_type": "code",
   "execution_count": 6,
   "metadata": {},
   "outputs": [],
   "source": [
    "# from ultralytics.yolo.utils.benchmarks import benchmark\n",
    "\n",
    "# # Benchmark on GPU\n",
    "# benchmark(model=model, imgsz=640, half=False, device='cpu')"
   ]
  },
  {
   "attachments": {},
   "cell_type": "markdown",
   "metadata": {},
   "source": [
    "### Export Model"
   ]
  },
  {
   "cell_type": "code",
   "execution_count": 10,
   "metadata": {},
   "outputs": [
    {
     "name": "stderr",
     "output_type": "stream",
     "text": [
      "Ultralytics YOLOv8.0.118 🚀 Python-3.9.16 torch-2.0.1 MPS\n",
      "\n",
      "\u001b[34m\u001b[1mPyTorch:\u001b[0m starting from runs/detect/train38/weights/best.pt with input shape (16, 3, 640, 640) BCHW and output shape(s) (16, 5, 8400) (5.9 MB)\n",
      "\n",
      "\u001b[34m\u001b[1mTensorFlow SavedModel:\u001b[0m starting export with tensorflow 2.12.0...\n",
      "\n",
      "\u001b[34m\u001b[1mONNX:\u001b[0m starting export with onnx 1.14.0 opset 17...\n",
      "\u001b[34m\u001b[1mONNX:\u001b[0m simplifying with onnxsim 0.4.31...\n"
     ]
    },
    {
     "name": "stdout",
     "output_type": "stream",
     "text": [
      "================ Diagnostic Run torch.onnx.export version 2.0.1 ================\n",
      "verbose: False, log level: Level.ERROR\n",
      "======================= 0 NONE 0 NOTE 0 WARNING 0 ERROR ========================\n",
      "\n"
     ]
    },
    {
     "name": "stderr",
     "output_type": "stream",
     "text": [
      "\u001b[34m\u001b[1mONNX:\u001b[0m export success ✅ 1.7s, saved as runs/detect/train38/weights/best.onnx (11.6 MB)\n",
      "\n",
      "\u001b[34m\u001b[1mTensorFlow SavedModel:\u001b[0m running 'onnx2tf -i runs/detect/train38/weights/best.onnx -o runs/detect/train38/weights/best_saved_model -nuo --non_verbose'\n",
      "\u001b[34m\u001b[1mTensorFlow SavedModel:\u001b[0m export success ✅ 14.6s, saved as runs/detect/train38/weights/best_saved_model (29.2 MB)\n",
      "\n",
      "Export complete (15.7s)\n",
      "Results saved to \u001b[1m/Users/aus10powell/Documents/Projects/MIT-Fishery-Counter/code/notebooks/runs/detect/train38/weights\u001b[0m\n",
      "Predict:         yolo predict task=detect model=runs/detect/train38/weights/best_saved_model imgsz=640 \n",
      "Validate:        yolo val task=detect model=runs/detect/train38/weights/best_saved_model imgsz=640 data=river_herring.yaml \n",
      "Visualize:       https://netron.app\n"
     ]
    },
    {
     "data": {
      "text/plain": [
       "'runs/detect/train38/weights/best_saved_model'"
      ]
     },
     "execution_count": 10,
     "metadata": {},
     "output_type": "execute_result"
    }
   ],
   "source": [
    "# Export the model\n",
    "model.export(format='saved_model')"
   ]
  },
  {
   "attachments": {},
   "cell_type": "markdown",
   "metadata": {},
   "source": [
    "### Load Model"
   ]
  },
  {
   "cell_type": "code",
   "execution_count": null,
   "metadata": {},
   "outputs": [],
   "source": []
  },
  {
   "cell_type": "code",
   "execution_count": 5,
   "metadata": {},
   "outputs": [],
   "source": [
    "## Record of models:\n",
    "## \n",
    "# 'runs/detect/train36/weights/best_saved_model' Wandb:  https://wandb.ai/aus10powell/MITFisheryHerring/runs/txn0c9x3\n",
    "from ultralytics import YOLO\n",
    "model_best = YOLO( \"/Users/aus10powell/Documents/Projects/MIT-Fishery-Counter/code/notebooks/runs/detect/train196/weights/best.pt\") "
   ]
  },
  {
   "cell_type": "code",
   "execution_count": 6,
   "metadata": {},
   "outputs": [
    {
     "name": "stderr",
     "output_type": "stream",
     "text": [
      "Ultralytics YOLOv8.0.139 🚀 Python-3.11.3 torch-2.1.0.dev20230515 CPU (Apple M2 Pro)\n",
      "Model summary (fused): 168 layers, 3005843 parameters, 0 gradients\n",
      "\u001b[34m\u001b[1mval: \u001b[0mScanning /Users/aus10powell/Documents/Projects/MIT-Fishery-Counter/data/datasets/IRWARiverHerringv2i/valid/labels.cache... 474 images, 2 backgrounds, 0 corrupt: 100%|██████████| 474/474 [00:00<?, ?it/s]\n",
      "                 Class     Images  Instances      Box(P          R      mAP50  mAP50-95): 100%|██████████| 30/30 [01:07<00:00,  2.24s/it]\n",
      "                   all        474        579      0.974      0.974      0.982      0.719\n",
      "Speed: 0.3ms preprocess, 139.7ms inference, 0.0ms loss, 0.3ms postprocess per image\n",
      "Results saved to \u001b[1mruns/detect/val50\u001b[0m\n"
     ]
    },
    {
     "data": {
      "text/plain": [
       "ultralytics.utils.metrics.DetMetrics object with attributes:\n",
       "\n",
       "ap_class_index: array([0])\n",
       "box: ultralytics.utils.metrics.Metric object\n",
       "confusion_matrix: <ultralytics.utils.metrics.ConfusionMatrix object at 0x345088610>\n",
       "fitness: 0.7457419319105141\n",
       "keys: ['metrics/precision(B)', 'metrics/recall(B)', 'metrics/mAP50(B)', 'metrics/mAP50-95(B)']\n",
       "maps: array([    0.71947])\n",
       "names: {0: 'river_herring'}\n",
       "plot: True\n",
       "results_dict: {'metrics/precision(B)': 0.9736492793997796, 'metrics/recall(B)': 0.9740932642487047, 'metrics/mAP50(B)': 0.98221444099014, 'metrics/mAP50-95(B)': 0.7194672086794445, 'fitness': 0.7457419319105141}\n",
       "save_dir: PosixPath('runs/detect/val50')\n",
       "speed: {'preprocess': 0.33781598891889997, 'inference': 139.69157768201222, 'loss': 3.2191538106540084e-05, 'postprocess': 0.28059552993452497}"
      ]
     },
     "metadata": {},
     "output_type": "display_data"
    },
    {
     "name": "stderr",
     "output_type": "stream",
     "text": [
      "Ultralytics YOLOv8.0.139 🚀 Python-3.11.3 torch-2.1.0.dev20230515 CPU (Apple M2 Pro)\n"
     ]
    },
    {
     "name": "stdout",
     "output_type": "stream",
     "text": [
      "**************************************************\n"
     ]
    },
    {
     "name": "stderr",
     "output_type": "stream",
     "text": [
      "\u001b[34m\u001b[1mval: \u001b[0mScanning /Users/aus10powell/Documents/Projects/MIT-Fishery-Counter/data/datasets/IRWARiverHerringv2i/test/labels.cache... 262 images, 0 backgrounds, 0 corrupt: 100%|██████████| 262/262 [00:00<?, ?it/s]\n",
      "                 Class     Images  Instances      Box(P          R      mAP50  mAP50-95): 100%|██████████| 17/17 [00:37<00:00,  2.22s/it]\n",
      "                   all        262        306      0.982      0.954      0.984      0.702\n",
      "Speed: 0.4ms preprocess, 141.7ms inference, 0.0ms loss, 0.3ms postprocess per image\n",
      "Results saved to \u001b[1mruns/detect/val51\u001b[0m\n"
     ]
    },
    {
     "data": {
      "text/plain": [
       "ultralytics.utils.metrics.DetMetrics object with attributes:\n",
       "\n",
       "ap_class_index: array([0])\n",
       "box: ultralytics.utils.metrics.Metric object\n",
       "confusion_matrix: <ultralytics.utils.metrics.ConfusionMatrix object at 0x327a91410>\n",
       "fitness: 0.7297670734656375\n",
       "keys: ['metrics/precision(B)', 'metrics/recall(B)', 'metrics/mAP50(B)', 'metrics/mAP50-95(B)']\n",
       "maps: array([    0.70156])\n",
       "names: {0: 'river_herring'}\n",
       "plot: True\n",
       "results_dict: {'metrics/precision(B)': 0.9821123084705415, 'metrics/recall(B)': 0.954248366013072, 'metrics/mAP50(B)': 0.9836016433649933, 'metrics/mAP50-95(B)': 0.701563232365709, 'fitness': 0.7297670734656375}\n",
       "save_dir: PosixPath('runs/detect/val51')\n",
       "speed: {'preprocess': 0.3605880810104254, 'inference': 141.7376057792256, 'loss': 3.7309777645664366e-05, 'postprocess': 0.2867593110062694}"
      ]
     },
     "metadata": {},
     "output_type": "display_data"
    }
   ],
   "source": [
    "display(model_best.val(split='val'))\n",
    "print(\"*\"*50)\n",
    "display(model_best.val(split='test',device='mps'))"
   ]
  },
  {
   "cell_type": "code",
   "execution_count": 7,
   "metadata": {},
   "outputs": [
    {
     "name": "stderr",
     "output_type": "stream",
     "text": [
      "\n",
      "image 1/1 /Users/aus10powell/Downloads/RiverHerring/River Herring IRWA/1_2016-04-23_16-06-05_large.jpg: 480x640 2 river_herrings, 52.2ms\n",
      "Speed: 1.5ms preprocess, 52.2ms inference, 0.5ms postprocess per image at shape (1, 3, 480, 640)\n"
     ]
    },
    {
     "data": {
      "image/png": "[encoded data removed]",
      "text/plain": [
       "<Figure size 640x480 with 2 Axes>"
      ]
     },
     "metadata": {},
     "output_type": "display_data"
    }
   ],
   "source": [
    "%matplotlib inline\n",
    "import matplotlib.pyplot as plt\n",
    "import cv2\n",
    "\n",
    "\n",
    "\n",
    "herring_example = '/Users/aus10powell/Downloads/RiverHerring/River Herring JRWA/2013 Johne RIver Wapping Rd Dam/vlcsnap-2016-12-20-11h40m56s911.jpg'\n",
    "white_sucker_example = '/Users/aus10powell/Downloads/RiverHerring/River Herring JRWA/2013 Underwater fish Jones River/WhiteSuckerWapping (6).JPG'\n",
    "small_image = '/Users/aus10powell/Downloads/RiverHerring/IRWA 2017 (Large+annotations)/IRWA Small Jpgs/Batch 1/2_2017-04-14_19-03-04.jpg'\n",
    "v2_test_image = '/Users/aus10powell/Documents/Projects/MIT-Fishery-Counter/data/datasets/MITFisheryHerringv2/test/images/1_2016-04-21_21-50-1804298_jpg.rf.011911b9c681d5b4af70a308cdd98b93.jpg' # 2 fish\n",
    "v2_valid_image = '/Users/aus10powell/Documents/Projects/MIT-Fishery-Counter/data/datasets/MITFisheryHerringv2/valid/images/1_2016-04-21_21-50-1803927_jpg.rf.6b36f83367e966f41544ba7e229f4d05.jpg'\n",
    "\n",
    "random_example = \"/Users/aus10powell/Downloads/RiverHerring/River Herring IRWA/1_2016-05-13_12-34-57_large.jpg\"\n",
    "\n",
    "#\n",
    "v2_valid_imageb = \"/Users/aus10powell/Documents/Projects/MIT-Fishery-Counter/data/datasets/MITRiverHerring2w/valid/images/1_2016-04-21_21-50-1804987_jpg.rf.bd983d16bbaf541a0f08db030018a540.jpg\"\n",
    "v2_valid_imagec = \"/Users/aus10powell/Documents/Projects/MIT-Fishery-Counter/data/datasets/MITRiverHerring2w/valid/images/1_2016-04-21_21-50-1805011_jpg.rf.27d6d6392af4e7f3f8cac5c5bde0c0d1.jpg\"\n",
    "\n",
    "image = \"/Users/aus10powell/Downloads/RiverHerring/River Herring IRWA/1_2016-04-23_16-06-05_large.jpg\"\n",
    "\n",
    "results = model_best(image)\n",
    "title = image.split(\"/\")[-1]\n",
    "num_fish = len(results[0].boxes.data)\n",
    "\n",
    "# Load and display the original image\n",
    "original_image = cv2.imread(image)\n",
    "original_image_rgb = cv2.cvtColor(original_image, cv2.COLOR_BGR2RGB)\n",
    "plt.subplot(1, 2, 1)\n",
    "plt.imshow(original_image_rgb)\n",
    "plt.title(\"Original Image\")\n",
    "\n",
    "# Generate and display the annotated frame\n",
    "annotated_frame = results[0].plot()\n",
    "gray = cv2.cvtColor(annotated_frame, cv2.COLOR_BGR2GRAY)\n",
    "plt.subplot(1, 2, 2)\n",
    "plt.imshow(gray, cmap=\"gray\")\n",
    "plt.title(title + f' ---- num_fish: {num_fish}')\n",
    "\n",
    "plt.tight_layout()\n",
    "plt.show()"
   ]
  },
  {
   "attachments": {},
   "cell_type": "markdown",
   "metadata": {},
   "source": [
    "### Images with biggest loss"
   ]
  },
  {
   "attachments": {},
   "cell_type": "markdown",
   "metadata": {},
   "source": [
    "## Tracking"
   ]
  },
  {
   "cell_type": "code",
   "execution_count": 13,
   "metadata": {},
   "outputs": [],
   "source": [
    "# from ultralytics import YOLO\n",
    "\n",
    "# model = model_best\n",
    "# video_path = \"/Users/aus10powell/Downloads/RiverHerring/IRWA 2017 Videos/Fish Sightings 2017/2_2017-04-13_14-10-29.mp4\"\n",
    "# results = model.track(\n",
    "#     source=video_path,\n",
    "#     tracker=\"/Users/aus10powell/Documents/Projects/MIT-Fishery-Counter/code/notebooks/bytetrack.yaml\",\n",
    "#     show=True,\n",
    "#    #stream=True #Uncomment to use r in results as loop\n",
    "# )  # OPTIONAL: , tracker='custom_tracker.yaml'"
   ]
  },
  {
   "attachments": {},
   "cell_type": "markdown",
   "metadata": {},
   "source": [
    "### Experimenting"
   ]
  },
  {
   "cell_type": "code",
   "execution_count": 85,
   "metadata": {},
   "outputs": [
    {
     "name": "stdout",
     "output_type": "stream",
     "text": [
      "Maximum Width: 320px\n",
      "Maximum Height: 240px\n",
      "Minimum Width: 320px\n",
      "Minimum Height: 240px\n",
      "Average Width: 320.0px\n",
      "Average Height: 240.0px\n",
      "Standard Deviation of Widths: 0.00px\n",
      "Standard Deviation of Heights: 0.00px\n"
     ]
    }
   ],
   "source": [
    "import os\n",
    "import cv2\n",
    "import numpy as np\n",
    "\n",
    "# Directory path containing the JPEG images\n",
    "directory = '/Users/aus10powell/Downloads/RiverHerring/IRWA 2017 Videos/2018 Fish Sightings/2_2018-04-14_09-57-26.mp4'\n",
    "\n",
    "# Initialize variables\n",
    "widths = []\n",
    "heights = []\n",
    "\n",
    "# Iterate through the directory\n",
    "for filename in os.listdir(directory):\n",
    "    if filename.endswith('.jpg'):\n",
    "        # Load the image\n",
    "        image_path = os.path.join(directory, filename)\n",
    "        image = cv2.imread(image_path)\n",
    "\n",
    "        # Get the dimensions\n",
    "        height, width, _ = image.shape\n",
    "\n",
    "        # Append dimensions to the lists\n",
    "        widths.append(width)\n",
    "        heights.append(height)\n",
    "\n",
    "# Convert lists to numpy arrays\n",
    "widths = np.array(widths)\n",
    "heights = np.array(heights)\n",
    "\n",
    "# Calculate statistics\n",
    "max_width = np.max(widths)\n",
    "max_height = np.max(heights)\n",
    "min_width = np.min(widths)\n",
    "min_height = np.min(heights)\n",
    "avg_width = np.mean(widths)\n",
    "avg_height = np.mean(heights)\n",
    "std_width = np.std(widths)\n",
    "std_height = np.std(heights)\n",
    "\n",
    "# Print the results\n",
    "print(f\"Maximum Width: {max_width}px\")\n",
    "print(f\"Maximum Height: {max_height}px\")\n",
    "print(f\"Minimum Width: {min_width}px\")\n",
    "print(f\"Minimum Height: {min_height}px\")\n",
    "print(f\"Average Width: {avg_width}px\")\n",
    "print(f\"Average Height: {avg_height}px\")\n",
    "print(f\"Standard Deviation of Widths: {std_width:.2f}px\")\n",
    "print(f\"Standard Deviation of Heights: {std_height:.2f}px\")\n"
   ]
  },
  {
   "cell_type": "code",
   "execution_count": 4,
   "metadata": {},
   "outputs": [
    {
     "name": "stdout",
     "output_type": "stream",
     "text": [
      "Frame width: 640\n",
      "Frame height: 480\n"
     ]
    }
   ],
   "source": [
    "## Get frame size of single video\n",
    "\n",
    "\n",
    "import cv2\n",
    "\n",
    "def get_frame_size(mp4_file):\n",
    "    cap = cv2.VideoCapture(mp4_file)\n",
    "    if not cap.isOpened():\n",
    "        raise ValueError(f\"Error opening video file: {mp4_file}\")\n",
    "\n",
    "    frame_width = int(cap.get(cv2.CAP_PROP_FRAME_WIDTH))\n",
    "    frame_height = int(cap.get(cv2.CAP_PROP_FRAME_HEIGHT))\n",
    "\n",
    "    cap.release()\n",
    "\n",
    "    return (frame_width, frame_height)\n",
    "\n",
    "# Example usage\n",
    "mp4_file = '/Users/aus10powell/Downloads/RiverHerring/IRWA 2017 Videos/2018 Fish Sightings/2_2018-04-14_09-57-26.mp4'\n",
    "frame_width, frame_height = get_frame_size(mp4_file)\n",
    "\n",
    "print(f\"Frame width: {frame_width}\")\n",
    "print(f\"Frame height: {frame_height}\")\n"
   ]
  },
  {
   "attachments": {},
   "cell_type": "markdown",
   "metadata": {},
   "source": [
    "### Video Gold Standard Count Verification"
   ]
  },
  {
   "cell_type": "code",
   "execution_count": 1,
   "metadata": {},
   "outputs": [],
   "source": [
    "%%capture\n",
    "import glob\n",
    "import os\n",
    "PROJECT_DIR = os.path.join(\n",
    "    \"/\", \"Users\", \"aus10powell\", \"Documents\", \"Projects\", \"MIT-Fishery-Counter\"\n",
    ")\n",
    "DATA_DIR = os.path.join(PROJECT_DIR, \"data\")\n",
    "GOLD_DIR = os.path.join(DATA_DIR, \"gold_dataset\")\n",
    "mp4_files = glob.glob(os.path.join(GOLD_DIR, \"videos\") + \"/*.mp4\")\n",
    "#[f.split(\"/\")[-1].split(\".\")[0] for f in mp4_files]\n",
    "\n",
    "\n",
    "from sklearn.metrics import mean_absolute_error, mean_absolute_percentage_error\n",
    "from main_inference import main\n",
    "\n",
    "import cv2\n",
    "import time\n",
    "from ultralytics import YOLO\n",
    "import supervision as sv\n",
    "import numpy as np\n",
    "import json\n",
    "import io\n",
    "import time\n",
    "import logging\n",
    "import os\n",
    "from tqdm import tqdm\n",
    "import resource\n",
    "\n",
    "site = \"IRWA\"\n",
    "\n",
    "# True data\n",
    "\n",
    "\n",
    "data = [\n",
    "    {\"file\": \"2_2018-05-10_06-39-30\", \"true_herring_counts\": 4},\n",
    "    {\"file\": \"2_2018-04-14_10-06-19\",\"true_herring_counts\": 1 },\n",
    "    {\"file\": \"2_2018-04-14_13-18-51\", \"true_herring_counts\": 1},\n",
    "    {\"file\": \"2_2018-04-28_10-54-38\", \"true_herring_counts\": 3},\n",
    "    {\"file\": \"2_2017-06-04_06-09-56\", \"true_herring_counts\": 0}, # Comes from left returns right\n",
    "    {\"file\": \"2_2017-04-15_11-23-36\", \"true_herring_counts\": 1},\n",
    "    {\"file\": \"2_2017-04-13_14-10-29\", \"true_herring_counts\": 1},  # 2_2017-04-13_13-10-00\n",
    "    {\"file\": \"2_2017-04-13_13-10-00\", \"true_herring_counts\": 1}, # 2_2018-04-14_17-12-42\n",
    "    {\"file\": \"2_2018-04-14_17-12-42\", \"true_herring_counts\": 1}, # 2_2018-04-27_13-07-38\n",
    "    {\"file\": \"2_2018-04-27_13-07-38\", \"true_herring_counts\": 1}, # 2_2018-04-27_15-23-03\n",
    "    {\"file\": \"2_2018-04-27_15-23-03\", \"true_herring_counts\": 3}, \n",
    "    {\"file\": \"2_2018-04-29_08-28-10\", \"true_herring_counts\": 1},\n",
    "    {\"file\": \"2_2018-04-29_09-14-03\", \"true_herring_counts\": 1},\n",
    "    {\"file\": \"2_2018-04-29_16-28-35\", \"true_herring_counts\": 2},\n",
    "    {\"file\": \"2_2018-04-29_15-55-24\", \"true_herring_counts\": 2},\n",
    "    {\"file\": \"2_2018-04-28_11-25-56\", \"true_herring_counts\": 2},\n",
    "   {\"file\": \"2_2018-04-29_15-39-37\", \"true_herring_counts\": 3},\n",
    "    {\"file\": \"2_2018-04-29_16-54-05\", \"true_herring_counts\": 1}, \n",
    "    {\"file\": \"2_2018-05-04_11-32-10\", \"true_herring_counts\": 1}, \n",
    "]\n",
    "\n",
    "pred_net_counts = []\n",
    "true_net_counts = []\n",
    "total_duration_seconds = []\n",
    "for idx in tqdm(range(len(data))):\n",
    "    video_path = [path for path in mp4_files if data[idx][\"file\"] in path][0]\n",
    "    print(video_path)\n",
    "    frame_rate, annotated_frames, out_count, in_count,duration_seconds,_ = main(\n",
    "        video_path=video_path,device='mps'            \n",
    "    )\n",
    "    pred_net_counts.append(out_count-in_count)\n",
    "    true_net_counts.append(data[idx][\"true_herring_counts\"])\n",
    "    total_duration_seconds.append(duration_seconds)\n",
    "\n"
   ]
  },
  {
   "cell_type": "code",
   "execution_count": null,
   "metadata": {},
   "outputs": [],
   "source": [
    "\n",
    "import pandas as pd\n",
    "import numpy as np\n",
    "from scipy import stats\n",
    "def calculate_confidence_interval(count_data, confidence_level=0.95):\n",
    "    # Calculate the mean and standard deviation of the count data\n",
    "    mean = np.mean(count_data)\n",
    "    std = np.std(count_data)\n",
    "\n",
    "    # Calculate the confidence interval using the t-distribution\n",
    "    n = len(count_data)\n",
    "    t_value = stats.t.ppf((1 + confidence_level) / 2, df=n-1)\n",
    "    margin_of_error = t_value * std / np.sqrt(n)\n",
    "    confidence_interval = (mean - margin_of_error, mean + margin_of_error)\n",
    "\n",
    "    return confidence_interval\n",
    "\n",
    "def MAPE(y_true, y_pred):\n",
    "    \"\"\"\n",
    "    Calculate the Mean Absolute Percentage Error (MAPE) between the true values and predicted values.\n",
    "    \n",
    "    Parameters:\n",
    "        y_true (array-like): Array or list of true values.\n",
    "        y_pred (array-like): Array or list of predicted values.\n",
    "\n",
    "    Returns:\n",
    "        float: The calculated MAPE value.\n",
    "    \"\"\"\n",
    "    y_true = np.array(y_true)\n",
    "    y_pred = np.array(y_pred)\n",
    "\n",
    "    # Avoid division by zero\n",
    "    epsilon = 1e-10\n",
    "\n",
    "    total_percentage_error = 0\n",
    "    total_samples = len(y_true)\n",
    "\n",
    "    for i in range(total_samples):\n",
    "        # Calculate the absolute percentage error for each data point\n",
    "        if y_true[i] == 0:\n",
    "            absolute_percentage_error = np.abs((y_true[i] - y_pred[i]))\n",
    "        else:\n",
    "            absolute_percentage_error = np.abs((y_true[i] - y_pred[i]) / (y_true[i] + epsilon))\n",
    "\n",
    "        # Add it to the total percentage error\n",
    "        total_percentage_error += absolute_percentage_error\n",
    "\n",
    "    # Calculate the mean of the absolute percentage errors\n",
    "    mape = (total_percentage_error / total_samples) * 100.0\n",
    "\n",
    "    return mape\n",
    "\n",
    "df_results = pd.DataFrame(data={\"pred_net_counts\":pred_net_counts,\"true_net_counts\":true_net_counts},)"
   ]
  },
  {
   "cell_type": "code",
   "execution_count": null,
   "metadata": {},
   "outputs": [
    {
     "name": "stdout",
     "output_type": "stream",
     "text": [
      "Total video processed: 259.63 (sec), 4.3 (min)\n",
      "Total number of videos process: 19\n",
      "Did not count 11 out of 30 herring\n",
      "MAE (Mean Absolute Error e.g. counts): 0.58\n",
      "MAPE (Mean Absolute Percentage Error of Counts): 28.5%\n",
      "Average number of missed counts per second 0.04\n",
      "Estimates off between 0.1 and 1.0 fish at an average of 0.6 per video\n"
     ]
    }
   ],
   "source": [
    "print(f\"Total video processed: {sum(total_duration_seconds)} (sec), {sum(total_duration_seconds)/60:.1f} (min)\")\n",
    "print(f\"Total number of videos process: {len(data)}\")\n",
    "\n",
    "diffs = [np.abs(x - y) for x, y in zip(true_net_counts, pred_net_counts)]\n",
    "print(f\"Did not count {sum(diffs)} out of {sum(true_net_counts)} herring\")\n",
    "print(f\"MAE (Mean Absolute Error e.g. counts): {mean_absolute_error(y_pred=pred_net_counts,y_true = true_net_counts):.2f}\",)\n",
    "print(f\"MAPE (Mean Absolute Percentage Error of Counts): {MAPE(true_net_counts,pred_net_counts):.1f}%\",)\n",
    "\n",
    "print(f\"Average number of missed counts per second {sum(diffs)/sum(total_duration_seconds):.2f}\")\n",
    "\n",
    "\n",
    "\n",
    "absolute_error = np.abs(df_results[\"pred_net_counts\"] - df_results[\"true_net_counts\"]).values\n",
    "std_absolute_error = np.std(absolute_error)\n",
    "ci = calculate_confidence_interval(count_data=diffs)\n",
    "print(f\"Estimates off between {ci[0]:.1f} and {ci[1]:.1f} fish at an average of {np.mean(diffs):.1f} per video\")\n",
    "\n",
    "# Bootstrapped\n",
    "\n",
    "def bootstrap_mean_ci(data, num_iterations=10000, ci_level=0.95):\n",
    "    # Create an array to store bootstrapped means\n",
    "    bootstrapped_means = np.empty(num_iterations)\n",
    "\n",
    "    # Perform bootstrapping\n",
    "    for i in range(num_iterations):\n",
    "        bootstrap_sample = np.random.choice(data, size=len(data), replace=True)\n",
    "        bootstrapped_means[i] = np.mean(bootstrap_sample)\n",
    "\n",
    "    # Calculate confidence interval\n",
    "    lower_ci = np.percentile(bootstrapped_means, (1 - ci_level) * 100 / 2)\n",
    "    upper_ci = np.percentile(bootstrapped_means, ci_level * 100 + (1 - ci_level) * 100 / 2)\n",
    "\n",
    "    return np.mean(bootstrapped_means), lower_ci, upper_ci\n",
    "\n",
    "# # Example usage\n",
    "# mean, lower_ci, upper_ci = bootstrap_mean_ci(diffs)\n",
    "\n",
    "# print(f\"Bootstrapped mean: {mean:.2f}\")\n",
    "# print(f\"Bootstrapped CI of how many counts on average the model is off: [{lower_ci:.2f}, {upper_ci:.2f}]\")"
   ]
  },
  {
   "cell_type": "code",
   "execution_count": null,
   "metadata": {},
   "outputs": [],
   "source": [
    "\"\"\"\n",
    "# /Users/aus10powell/Documents/Projects/MIT-Fishery-Counter/code/notebooks/runs/detect/train196/weights/last.pt\n",
    "\n",
    "Total video processed: 259.63 (sec), 4.3 (min)\n",
    "Total number of videos process: 19\n",
    "Did not count 11 out of 30 herring\n",
    "MAE (Mean Absolute Error e.g. counts): 0.58\n",
    "MAPE (Mean Absolute Percentage Error of Counts): 28.5%\n",
    "\"\"\""
   ]
  },
  {
   "attachments": {},
   "cell_type": "markdown",
   "metadata": {},
   "source": [
    "### Run Benchmark"
   ]
  },
  {
   "cell_type": "code",
   "execution_count": 2,
   "metadata": {},
   "outputs": [
    {
     "name": "stderr",
     "output_type": "stream",
     "text": [
      "Ultralytics YOLOv8.0.139 🚀 Python-3.11.3 torch-2.1.0.dev20230515 MPS (Apple M2 Pro)\n",
      "Setup complete ✅ (10 CPUs, 32.0 GB RAM, 444.7/926.4 GB disk)\n",
      "\n",
      "Benchmarks complete for best.pt on river_herring.yaml at imgsz=(320, 240) (184.25s)\n",
      "                   Format Status❔  Size (MB)  metrics/mAP50-95(B)  Inference time (ms/im)\n",
      "0                 PyTorch       ✅       21.5               0.6365                   12.01\n",
      "1             TorchScript       ❎       42.8                  NaN                     NaN\n",
      "2                    ONNX       ❎       42.5                  NaN                     NaN\n",
      "3                OpenVINO       ❎       42.7                  NaN                     NaN\n",
      "4                TensorRT       ❌        0.0                  NaN                     NaN\n",
      "5                  CoreML       ❌        0.0                  NaN                     NaN\n",
      "6   TensorFlow SavedModel       ❎      106.4                  NaN                     NaN\n",
      "7     TensorFlow GraphDef       ❎       42.6                  NaN                     NaN\n",
      "8         TensorFlow Lite       ❎       42.5                  NaN                     NaN\n",
      "9     TensorFlow Edge TPU       ❌        0.0                  NaN                     NaN\n",
      "10          TensorFlow.js       ❌       42.6                  NaN                     NaN\n",
      "11           PaddlePaddle       ❌        0.0                  NaN                     NaN\n",
      "12                   ncnn       ❌       42.8                  NaN                     NaN\n",
      "\n"
     ]
    },
    {
     "data": {
      "text/html": [
       "<div>\n",
       "<style scoped>\n",
       "    .dataframe tbody tr th:only-of-type {\n",
       "        vertical-align: middle;\n",
       "    }\n",
       "\n",
       "    .dataframe tbody tr th {\n",
       "        vertical-align: top;\n",
       "    }\n",
       "\n",
       "    .dataframe thead th {\n",
       "        text-align: right;\n",
       "    }\n",
       "</style>\n",
       "<table border=\"1\" class=\"dataframe\">\n",
       "  <thead>\n",
       "    <tr style=\"text-align: right;\">\n",
       "      <th></th>\n",
       "      <th>Format</th>\n",
       "      <th>Status❔</th>\n",
       "      <th>Size (MB)</th>\n",
       "      <th>metrics/mAP50-95(B)</th>\n",
       "      <th>Inference time (ms/im)</th>\n",
       "    </tr>\n",
       "  </thead>\n",
       "  <tbody>\n",
       "    <tr>\n",
       "      <th>0</th>\n",
       "      <td>PyTorch</td>\n",
       "      <td>✅</td>\n",
       "      <td>21.5</td>\n",
       "      <td>0.6365</td>\n",
       "      <td>12.01</td>\n",
       "    </tr>\n",
       "    <tr>\n",
       "      <th>1</th>\n",
       "      <td>TorchScript</td>\n",
       "      <td>❎</td>\n",
       "      <td>42.8</td>\n",
       "      <td>NaN</td>\n",
       "      <td>NaN</td>\n",
       "    </tr>\n",
       "    <tr>\n",
       "      <th>2</th>\n",
       "      <td>ONNX</td>\n",
       "      <td>❎</td>\n",
       "      <td>42.5</td>\n",
       "      <td>NaN</td>\n",
       "      <td>NaN</td>\n",
       "    </tr>\n",
       "    <tr>\n",
       "      <th>3</th>\n",
       "      <td>OpenVINO</td>\n",
       "      <td>❎</td>\n",
       "      <td>42.7</td>\n",
       "      <td>NaN</td>\n",
       "      <td>NaN</td>\n",
       "    </tr>\n",
       "    <tr>\n",
       "      <th>4</th>\n",
       "      <td>TensorRT</td>\n",
       "      <td>❌</td>\n",
       "      <td>0.0</td>\n",
       "      <td>NaN</td>\n",
       "      <td>NaN</td>\n",
       "    </tr>\n",
       "    <tr>\n",
       "      <th>5</th>\n",
       "      <td>CoreML</td>\n",
       "      <td>❌</td>\n",
       "      <td>0.0</td>\n",
       "      <td>NaN</td>\n",
       "      <td>NaN</td>\n",
       "    </tr>\n",
       "    <tr>\n",
       "      <th>6</th>\n",
       "      <td>TensorFlow SavedModel</td>\n",
       "      <td>❎</td>\n",
       "      <td>106.4</td>\n",
       "      <td>NaN</td>\n",
       "      <td>NaN</td>\n",
       "    </tr>\n",
       "    <tr>\n",
       "      <th>7</th>\n",
       "      <td>TensorFlow GraphDef</td>\n",
       "      <td>❎</td>\n",
       "      <td>42.6</td>\n",
       "      <td>NaN</td>\n",
       "      <td>NaN</td>\n",
       "    </tr>\n",
       "    <tr>\n",
       "      <th>8</th>\n",
       "      <td>TensorFlow Lite</td>\n",
       "      <td>❎</td>\n",
       "      <td>42.5</td>\n",
       "      <td>NaN</td>\n",
       "      <td>NaN</td>\n",
       "    </tr>\n",
       "    <tr>\n",
       "      <th>9</th>\n",
       "      <td>TensorFlow Edge TPU</td>\n",
       "      <td>❌</td>\n",
       "      <td>0.0</td>\n",
       "      <td>NaN</td>\n",
       "      <td>NaN</td>\n",
       "    </tr>\n",
       "    <tr>\n",
       "      <th>10</th>\n",
       "      <td>TensorFlow.js</td>\n",
       "      <td>❌</td>\n",
       "      <td>42.6</td>\n",
       "      <td>NaN</td>\n",
       "      <td>NaN</td>\n",
       "    </tr>\n",
       "    <tr>\n",
       "      <th>11</th>\n",
       "      <td>PaddlePaddle</td>\n",
       "      <td>❌</td>\n",
       "      <td>0.0</td>\n",
       "      <td>NaN</td>\n",
       "      <td>NaN</td>\n",
       "    </tr>\n",
       "    <tr>\n",
       "      <th>12</th>\n",
       "      <td>ncnn</td>\n",
       "      <td>❌</td>\n",
       "      <td>42.8</td>\n",
       "      <td>NaN</td>\n",
       "      <td>NaN</td>\n",
       "    </tr>\n",
       "  </tbody>\n",
       "</table>\n",
       "</div>"
      ],
      "text/plain": [
       "                   Format Status❔  Size (MB)  metrics/mAP50-95(B)  Inference time (ms/im)\n",
       "0                 PyTorch       ✅       21.5               0.6365                   12.01\n",
       "1             TorchScript       ❎       42.8                  NaN                     NaN\n",
       "2                    ONNX       ❎       42.5                  NaN                     NaN\n",
       "3                OpenVINO       ❎       42.7                  NaN                     NaN\n",
       "4                TensorRT       ❌        0.0                  NaN                     NaN\n",
       "5                  CoreML       ❌        0.0                  NaN                     NaN\n",
       "6   TensorFlow SavedModel       ❎      106.4                  NaN                     NaN\n",
       "7     TensorFlow GraphDef       ❎       42.6                  NaN                     NaN\n",
       "8         TensorFlow Lite       ❎       42.5                  NaN                     NaN\n",
       "9     TensorFlow Edge TPU       ❌        0.0                  NaN                     NaN\n",
       "10          TensorFlow.js       ❌       42.6                  NaN                     NaN\n",
       "11           PaddlePaddle       ❌        0.0                  NaN                     NaN\n",
       "12                   ncnn       ❌       42.8                  NaN                     NaN"
      ]
     },
     "execution_count": 2,
     "metadata": {},
     "output_type": "execute_result"
    }
   ],
   "source": [
    "from ultralytics.utils.benchmarks import benchmark\n",
    "benchmark(model='/Users/aus10powell/Documents/Projects/MIT-Fishery-Counter/code/notebooks/runs/detect/train184/weights/best.pt', data='river_herring.yaml', imgsz=(320,240), half=False, device='mps')"
   ]
  }
 ],
 "metadata": {
  "kernelspec": {
   "display_name": "Python 3 (ipykernel)",
   "language": "python",
   "name": "python3"
  },
  "language_info": {
   "codemirror_mode": {
    "name": "ipython",
    "version": 3
   },
   "file_extension": ".py",
   "mimetype": "text/x-python",
   "name": "python",
   "nbconvert_exporter": "python",
   "pygments_lexer": "ipython3",
   "version": "3.11.3"
  }
 },
 "nbformat": 4,
 "nbformat_minor": 4
}
