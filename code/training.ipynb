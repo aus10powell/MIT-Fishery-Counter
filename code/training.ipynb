{
 "cells": [
  {
   "cell_type": "markdown",
   "metadata": {},
   "source": [
    "# Training Notebook"
   ]
  },
  {
   "cell_type": "code",
   "execution_count": 96,
   "metadata": {},
   "outputs": [
    {
     "name": "stdout",
     "output_type": "stream",
     "text": [
      "The lab_black extension is already loaded. To reload it, use:\n",
      "  %reload_ext lab_black\n"
     ]
    }
   ],
   "source": [
    "import glob\n",
    "import os\n",
    "import numpy as np\n",
    "\n",
    "# Vision\n",
    "import cv2\n",
    "\n",
    "## Utility\n",
    "import xml.etree.ElementTree as ET\n",
    "from tqdm import tqdm\n",
    "\n",
    "import inference_utils\n",
    "\n",
    "## Displaying in-cell\n",
    "from IPython.display import Image\n",
    "import matplotlib.pyplot as plt\n",
    "\n",
    "%load_ext lab_black"
   ]
  },
  {
   "cell_type": "code",
   "execution_count": 2,
   "metadata": {},
   "outputs": [],
   "source": [
    "class FishCounter(object):\n",
    "    import cv2\n",
    "\n",
    "    def __init__(self, model_config, model_weights):\n",
    "        self.net = cv2.dnn.readNetFromDarknet(model_config, model_weights)\n",
    "        self.input_width = 416\n",
    "        self.input_height = 416\n",
    "\n",
    "    def inference(self, frame):\n",
    "        \"\"\"Run inference on single frame.\"\"\"\n",
    "        # Create a 4D blob from a frame.\n",
    "        blob = cv2.dnn.blobFromImage(\n",
    "            frame,\n",
    "            1 / 255,\n",
    "            (self.input_width, self.input_height),\n",
    "            [0, 0, 0],\n",
    "            1,\n",
    "            crop=False,\n",
    "        )\n",
    "\n",
    "        # Sets the input to the network\n",
    "        self.net.setInput(blob)\n",
    "\n",
    "        # Runs the forward pass to get output of the output layers\n",
    "        outs = self.net.forward(self._get_outputs_names(net=self.net))\n",
    "\n",
    "    def _get_outputs_names(net):\n",
    "        \"\"\"Get the names of the output layers.\"\"\"\n",
    "        # Get the names of all the layers in the network\n",
    "        layersNames = net.getLayerNames()\n",
    "        # Get the names of the output layers, i.e. the layers with unconnected outputs\n",
    "        return [layersNames[i - 1] for i in net.getUnconnectedOutLayers()]\n",
    "\n",
    "    def get_annotated_frame(self):\n",
    "        \"\"\"Returns main frame with fish highlighted.\"\"\"\n",
    "        frame = self.frame.copy()"
   ]
  },
  {
   "cell_type": "code",
   "execution_count": 111,
   "metadata": {},
   "outputs": [],
   "source": [
    "def get_dimensions_of_annotations(fpath):\n",
    "    \"\"\"Extracts dimensions of annotation boxes from xml file for image.\"\"\"\n",
    "\n",
    "    class_label = \"herring\"  # TODO: Will need to accomodate multiple classes\n",
    "\n",
    "    tree = ET.parse(fpath)\n",
    "    root = tree.getroot()\n",
    "\n",
    "    xmins = []\n",
    "    ymins = []\n",
    "    xmaxs = []\n",
    "    ymaxs = []\n",
    "    for o in root.iter(\"object\"):\n",
    "        if o.find(\"name\").text == class_label:\n",
    "            xmins.append(eval(o[4][0].text))\n",
    "            ymins.append(eval(o[4][1].text))\n",
    "            xmaxs.append(eval(o[4][2].text))\n",
    "            ymaxs.append(eval(o[4][3].text))\n",
    "    return xmins, ymins, xmaxs, ymaxs\n",
    "\n",
    "\n",
    "def bb_intersection_over_union(boxA, boxB):\n",
    "    \"\"\"Compute the intersection over union by taking the intersection area and dividing\n",
    "    it by the sum of prediction + ground-truth areas - the interesection area\"\"\"\n",
    "    # determine the (x, y)-coordinates of the intersection rectangle\n",
    "    xA = max(boxA[0], boxB[0])\n",
    "    yA = max(boxA[1], boxB[1])\n",
    "    xB = min(boxA[2], boxB[2])\n",
    "    yB = min(boxA[3], boxB[3])\n",
    "    # compute the area of intersection rectangle\n",
    "    interArea = max(0, xB - xA + 1) * max(0, yB - yA + 1)\n",
    "    print(interArea)\n",
    "    # compute the area of both the prediction and ground-truth\n",
    "    # rectangles\n",
    "    boxAArea = (boxA[2] - boxA[0] + 1) * (boxA[3] - boxA[1] + 1)\n",
    "    print(boxAArea)\n",
    "    boxBArea = (boxB[2] - boxB[0] + 1) * (boxB[3] - boxB[1] + 1)\n",
    "    print(boxBArea)\n",
    "\n",
    "    return interArea / float(boxAArea + boxBArea - interArea)\n",
    "\n",
    "\n",
    "def find_matching_path(annotations, images):\n",
    "    \"\"\"Finds the corresponding image or annotation path (i.e. given on path searches for the corresponding path)\"\"\"\n",
    "    if type(annotations) == str:\n",
    "        anchor, search = annotations, images\n",
    "    elif type(images) == str:\n",
    "        anchor, search = images, annotations\n",
    "    else:\n",
    "        print(\"Somethings wrong\")\n",
    "    return [p for p in search if anchor.split(\"/\")[-1].split(\".\")[0] in p][\n",
    "        0\n",
    "    ]  # only need one"
   ]
  },
  {
   "cell_type": "markdown",
   "metadata": {},
   "source": [
    "#### Set paths"
   ]
  },
  {
   "cell_type": "code",
   "execution_count": 102,
   "metadata": {},
   "outputs": [
    {
     "name": "stdout",
     "output_type": "stream",
     "text": [
      "94 images. Annotations: 94\n"
     ]
    }
   ],
   "source": [
    "DOWNLOAD_DIR = os.path.join(\"/Users\", \"apowell\", \"Downloads\")\n",
    "assert os.path.isdir(DOWNLOAD_DIR)\n",
    "\n",
    "DATA_DIR = os.path.join(\"..\", \"data\", \"Herring\")\n",
    "\n",
    "TRAINING_DIR = os.path.join(DATA_DIR, \"Training\", \"IRWA 2017 (Large+annotations)\")\n",
    "TESTING_DIR = os.path.join(DATA_DIR, \"Testing\")\n",
    "\n",
    "os.path.isdir(DATA_DIR)  # assertion that we are pointed to correct folder\n",
    "WEIGHTS_DIR = os.path.join(\"..\", \"weights_and_config\")\n",
    "HERRING_WEIGHTS = os.path.join(WEIGHTS_DIR, \"Herring\")\n",
    "\n",
    "\n",
    "folder = \"Batch 1\"\n",
    "# Load images and annotations\n",
    "# images_path1 = os.path.join(TRAINING_DIR, folder, \"*.JPG\")\n",
    "# images_path2 = os.path.join(TRAINING_DIR, folder, \"*.jpg\")\n",
    "images_path1 = os.path.join(DOWNLOAD_DIR, \"HerringTestSet\", \"Images\", \"*.jpg\")\n",
    "images = glob.glob(images_path1)  # + glob.glob(images_path2)\n",
    "\n",
    "# annotation_path = os.path.join(TRAINING_DIR, f\"{folder} Annotations\", \"*.xml\")\n",
    "annotation_path = os.path.join(DOWNLOAD_DIR, \"HerringTestSet\", \"Xml\", \"*.xml\")\n",
    "annotations = glob.glob(annotation_path)\n",
    "print(\"{} images. Annotations: {}\".format(len(images), len(annotations)))"
   ]
  },
  {
   "cell_type": "code",
   "execution_count": 113,
   "metadata": {},
   "outputs": [
    {
     "name": "stdout",
     "output_type": "stream",
     "text": [
      "test /Users/apowell/Downloads/HerringTestSet/Images/1_2016-04-21_21-50-1808716.jpg\n",
      "test match: /Users/apowell/Downloads/HerringTestSet/Xml/1_2016-04-21_21-50-1808716.xml\n"
     ]
    }
   ],
   "source": [
    "# Example: Finding matching paths\n",
    "test = images[0]\n",
    "print(\"test:\", test)\n",
    "test_match = find_matching_path(images=test, annotations=annotations)\n",
    "print(\"test match:\", test_match)\n",
    "\n"
   ]
  },
  {
   "cell_type": "markdown",
   "metadata": {},
   "source": [
    "## Scoring annotations against inference\n",
    "**Requirements:** 2 folders: 1 with annotations (e.g. XML), 1 with images\n",
    "* **Steps:**\n",
    "  * 1) Run loop on images extracting predicted boxes from each image\n",
    "  * 2) Scan filenames until box is properly extracted\n",
    "  * 3) **Scoring Method:**\n",
    "    * For each annotation find closest/any overlapping boxes (scoring the greater of number of either the annotated or predicted set distinctly)\n",
    "    * Return average IOU for image\n",
    "    * Return total number of correctly detected fish"
   ]
  },
  {
   "cell_type": "code",
   "execution_count": 67,
   "metadata": {},
   "outputs": [
    {
     "name": "stdout",
     "output_type": "stream",
     "text": [
      "../data/Herring/Training/IRWA 2017 (Large+annotations)/Batch 1/2_2017-04-14_10-51-06_large.jpg [[6, 110, 107, 56]]\n"
     ]
    },
    {
     "ename": "IndexError",
     "evalue": "list index out of range",
     "output_type": "error",
     "traceback": [
      "\u001b[0;31m---------------------------------------------------------------------------\u001b[0m",
      "\u001b[0;31mIndexError\u001b[0m                                Traceback (most recent call last)",
      "\u001b[1;32m/Users/apowell/Documents/Projects/MIT-Fishery-Counter/code/training.ipynb Cell 8\u001b[0m in \u001b[0;36m<cell line: 68>\u001b[0;34m()\u001b[0m\n\u001b[1;32m     <a href='vscode-notebook-cell:/Users/apowell/Documents/Projects/MIT-Fishery-Counter/code/training.ipynb#X13sZmlsZQ%3D%3D?line=65'>66</a>\u001b[0m \u001b[39mprint\u001b[39m(herring_image, boxes)\n\u001b[1;32m     <a href='vscode-notebook-cell:/Users/apowell/Documents/Projects/MIT-Fishery-Counter/code/training.ipynb#X13sZmlsZQ%3D%3D?line=66'>67</a>\u001b[0m \u001b[39m# Get index of annotation path files that contains the path to annotated file matching the non-annoated file\u001b[39;00m\n\u001b[0;32m---> <a href='vscode-notebook-cell:/Users/apowell/Documents/Projects/MIT-Fishery-Counter/code/training.ipynb#X13sZmlsZQ%3D%3D?line=67'>68</a>\u001b[0m idx \u001b[39m=\u001b[39m [\n\u001b[1;32m     <a href='vscode-notebook-cell:/Users/apowell/Documents/Projects/MIT-Fishery-Counter/code/training.ipynb#X13sZmlsZQ%3D%3D?line=68'>69</a>\u001b[0m     i\n\u001b[1;32m     <a href='vscode-notebook-cell:/Users/apowell/Documents/Projects/MIT-Fishery-Counter/code/training.ipynb#X13sZmlsZQ%3D%3D?line=69'>70</a>\u001b[0m     \u001b[39mfor\u001b[39;49;00m i \u001b[39min\u001b[39;49;00m \u001b[39mrange\u001b[39;49m(\u001b[39mlen\u001b[39;49m(annotations))\n\u001b[1;32m     <a href='vscode-notebook-cell:/Users/apowell/Documents/Projects/MIT-Fishery-Counter/code/training.ipynb#X13sZmlsZQ%3D%3D?line=70'>71</a>\u001b[0m     \u001b[39mif\u001b[39;49;00m herring_image\u001b[39m.\u001b[39;49msplit(\u001b[39m\"\u001b[39;49m\u001b[39m/\u001b[39;49m\u001b[39m\"\u001b[39;49m)[\u001b[39m-\u001b[39;49m\u001b[39m1\u001b[39;49m]\u001b[39m.\u001b[39;49msplit(\u001b[39m\"\u001b[39;49m\u001b[39m.\u001b[39;49m\u001b[39m\"\u001b[39;49m)[\u001b[39m0\u001b[39;49m] \u001b[39min\u001b[39;49;00m annotations[i]\n\u001b[1;32m     <a href='vscode-notebook-cell:/Users/apowell/Documents/Projects/MIT-Fishery-Counter/code/training.ipynb#X13sZmlsZQ%3D%3D?line=71'>72</a>\u001b[0m ][\n\u001b[1;32m     <a href='vscode-notebook-cell:/Users/apowell/Documents/Projects/MIT-Fishery-Counter/code/training.ipynb#X13sZmlsZQ%3D%3D?line=72'>73</a>\u001b[0m     \u001b[39m0\u001b[39;49m\n\u001b[1;32m     <a href='vscode-notebook-cell:/Users/apowell/Documents/Projects/MIT-Fishery-Counter/code/training.ipynb#X13sZmlsZQ%3D%3D?line=73'>74</a>\u001b[0m ]  \u001b[39m# Get the first element (multiple matches do not matter)\u001b[39;00m\n\u001b[1;32m     <a href='vscode-notebook-cell:/Users/apowell/Documents/Projects/MIT-Fishery-Counter/code/training.ipynb#X13sZmlsZQ%3D%3D?line=76'>77</a>\u001b[0m xmins, xmaxs, ymins, ymaxs \u001b[39m=\u001b[39m get_dimensions_of_annotations(fpath\u001b[39m=\u001b[39mannotations[idx])\n\u001b[1;32m     <a href='vscode-notebook-cell:/Users/apowell/Documents/Projects/MIT-Fishery-Counter/code/training.ipynb#X13sZmlsZQ%3D%3D?line=78'>79</a>\u001b[0m \u001b[39m# Predicted\u001b[39;00m\n",
      "\u001b[0;31mIndexError\u001b[0m: list index out of range"
     ]
    }
   ],
   "source": [
    "def display_image_comparison(img_path=None, annotated_box=None, predicted_box=None):\n",
    "    import matplotlib.pyplot as plt\n",
    "    import cv2\n",
    "\n",
    "    \"\"\"Display an image with optional annotated class and predicted class within notebook for comparison.\n",
    "    image_path: image path to location in memory\n",
    "    annotated_box: corners in format xmin,xmax,ymin,ymax\n",
    "    \"\"\"\n",
    "\n",
    "    label = \"herring\"\n",
    "\n",
    "    img_name = img_path.split(\"/\")[-1].split(\".\")[0]\n",
    "    frame = cv2.imread(img_path)\n",
    "\n",
    "    # Annotated\n",
    "    cv2.rectangle(\n",
    "        frame,\n",
    "        (annotated_box[0], annotated_box[1]),\n",
    "        (annotated_box[2], annotated_box[3]),\n",
    "        (178, 255, 255),\n",
    "        2,\n",
    "    )\n",
    "\n",
    "    # Annotated\n",
    "    # Predicted\n",
    "    if predicted_box is not None:\n",
    "        cv2.rectangle(\n",
    "            frame,\n",
    "            (predicted_box[0], predicted_box[1]),\n",
    "            (predicted_box[2], predicted_box[3]),\n",
    "            (144, 238, 144),\n",
    "            3,\n",
    "        )\n",
    "    cv2.putText(\n",
    "        frame,\n",
    "        \"Annotated \" + label,\n",
    "        (annotated_box[0], annotated_box[1]),\n",
    "        cv2.FONT_HERSHEY_SIMPLEX,\n",
    "        0.55,\n",
    "        (178, 255, 255),\n",
    "        1,\n",
    "    )\n",
    "    cv2.putText(\n",
    "        frame,\n",
    "        \"Predicted \" + label,\n",
    "        (annotated_box[1], annotated_box[2]),\n",
    "        cv2.FONT_HERSHEY_SIMPLEX,\n",
    "        0.55,\n",
    "        (144, 238, 144),\n",
    "        1,\n",
    "    )\n",
    "    plt.imshow(frame)\n",
    "    plt.title(img_name)\n",
    "    plt.show()\n",
    "\n",
    "\n",
    "## Example files\n",
    "# 1 count: ../data/Herring/Training/IRWA 2017 (Large+annotations)/Batch 1/2_2017-04-14_11-42-13_large.jpg\n",
    "# herring_image = \"../data/Herring/Training/IRWA 2017 (Large+annotations)/Batch 1/2_2017-04-14_11-42-13_large.jpg\"\n",
    "# boxes = [[56, 134, 97, 48]]\n",
    "\n",
    "# 1 count: ../data/Herring/Training/IRWA 2017 (Large+annotations)/Batch 1/2_2017-04-14_10-51-06_large.jpg\n",
    "herring_image = \"../data/Herring/Training/IRWA 2017 (Large+annotations)/Batch 1/2_2017-04-14_10-51-06_large.jpg\"\n",
    "boxes = [[6, 110, 107, 56]]\n",
    "\n",
    "print(herring_image, boxes)\n",
    "# Get index of annotation path files that contains the path to annotated file matching the non-annoated file\n",
    "idx = [\n",
    "    i\n",
    "    for i in range(len(annotations))\n",
    "    if herring_image.split(\"/\")[-1].split(\".\")[0] in annotations[i]\n",
    "][\n",
    "    0\n",
    "]  # Get the first element (multiple matches do not matter)\n",
    "\n",
    "\n",
    "xmins, xmaxs, ymins, ymaxs = get_dimensions_of_annotations(fpath=annotations[idx])\n",
    "\n",
    "# Predicted\n",
    "left, top, width, height = boxes[0][0], boxes[0][1], boxes[0][2], boxes[0][3]\n",
    "xmin, ymin, xmax, ymax = left, top, left + width, top + height\n",
    "predicted_box = xmin, ymin, xmax, ymax\n",
    "# Annotated\n",
    "annotated_box = xmins[0], xmaxs[0], ymins[0], ymaxs[0]\n",
    "print(\"IOU Score:\", bb_intersection_over_union(boxA=predicted_box, boxB=annotated_box))\n",
    "\n",
    "display_image_comparison(\n",
    "    img_path=herring_image, annotated_box=annotated_box, predicted_box=predicted_box\n",
    ")  # predicted_box"
   ]
  },
  {
   "cell_type": "markdown",
   "metadata": {},
   "source": [
    "## Evaluation"
   ]
  },
  {
   "cell_type": "code",
   "execution_count": 103,
   "metadata": {},
   "outputs": [
    {
     "name": "stderr",
     "output_type": "stream",
     "text": [
      "  0%|          | 0/94 [00:00<?, ?it/s]"
     ]
    },
    {
     "name": "stdout",
     "output_type": "stream",
     "text": [
      "416 416\n"
     ]
    },
    {
     "name": "stderr",
     "output_type": "stream",
     "text": [
      "  2%|▏         | 2/94 [00:00<00:23,  3.98it/s]"
     ]
    },
    {
     "name": "stdout",
     "output_type": "stream",
     "text": [
      "[0.37076646 0.62617767 0.5142306  0.30055088 0.94516844 0.94516844]\n",
      "BOXES [[72, 228, 329, 144]] [0] [0]\n",
      "counts 1\n",
      "[[72, 228, 329, 144]]\n",
      "Counts: 1\n",
      "45175\n",
      "47850\n",
      "45731\n",
      "IOU Score: 0.9332520761889022\n",
      "\n",
      "416 416\n",
      "[0.7232271  0.66355705 0.543609   0.26670778 0.909749   0.909749  ]\n",
      "BOXES [[288, 254, 347, 128]] [0] [0]\n",
      "counts 1\n",
      "[[288, 254, 347, 128]]\n",
      "Counts: 1\n",
      "36176\n",
      "44892\n",
      "36624\n",
      "IOU Score: 0.7978826643140715\n",
      "\n",
      "416 416\n"
     ]
    },
    {
     "name": "stderr",
     "output_type": "stream",
     "text": [
      "  3%|▎         | 3/94 [00:00<00:23,  3.90it/s]"
     ]
    },
    {
     "name": "stdout",
     "output_type": "stream",
     "text": [
      "[0.34684214 0.6207243  0.52821535 0.23552504 0.94160265 0.94160265]\n",
      "BOXES [[52, 240, 338, 113]] [0] [0]\n",
      "counts 1\n",
      "[[52, 240, 338, 113]]\n",
      "Counts: 1\n",
      "35226\n",
      "38646\n",
      "41406\n",
      "IOU Score: 0.7858385758265293\n",
      "\n",
      "416 416\n"
     ]
    },
    {
     "name": "stderr",
     "output_type": "stream",
     "text": [
      "  5%|▌         | 5/94 [00:01<00:19,  4.66it/s]"
     ]
    },
    {
     "name": "stdout",
     "output_type": "stream",
     "text": [
      "[0.27137616 0.5909968  0.53890646 0.32005793 0.9478845  0.9478845 ]\n",
      "[0.94730365 0.58369726 0.09907495 0.14638363 0.84516746 0.84516746]\n",
      "BOXES [[1, 206, 344, 153], [574, 245, 63, 70]] [0 1] [0, 0]\n",
      "counts 2\n",
      "[[1, 206, 344, 153], [574, 245, 63, 70]]\n",
      "Counts: 2\n",
      "49742\n",
      "53130\n",
      "66538\n",
      "IOU Score: 0.71135200068644\n",
      "\n",
      "416 416\n",
      "[0.43998474 0.6321185  0.5415118  0.26919815 0.9418064  0.9418064 ]\n",
      "BOXES [[108, 238, 346, 129]] [0] [0]\n",
      "counts 1\n",
      "[[108, 238, 346, 129]]\n",
      "Counts: 1\n",
      "44763\n",
      "45110\n",
      "48330\n",
      "IOU Score: 0.9195924153090782\n",
      "\n",
      "416 416\n"
     ]
    },
    {
     "name": "stderr",
     "output_type": "stream",
     "text": [
      "  6%|▋         | 6/94 [00:01<00:17,  4.91it/s]"
     ]
    },
    {
     "name": "stdout",
     "output_type": "stream",
     "text": [
      "[0.37075773 0.6354888  0.4071458  0.20766798 0.92699665 0.92699665]\n",
      "[0.94930714 0.6351875  0.09969059 0.13809986 0.879902   0.879902  ]\n",
      "BOXES [[107, 255, 260, 99], [575, 271, 63, 66]] [0 1] [0, 0]\n",
      "counts 2\n",
      "[[107, 255, 260, 99], [575, 271, 63, 66]]\n",
      "Counts: 2\n",
      "22022\n",
      "26100\n",
      "22022\n",
      "IOU Score: 0.8437547892720306\n",
      "\n",
      "416 416\n"
     ]
    },
    {
     "name": "stderr",
     "output_type": "stream",
     "text": [
      "  7%|▋         | 7/94 [00:01<00:18,  4.72it/s]"
     ]
    },
    {
     "name": "stdout",
     "output_type": "stream",
     "text": [
      "[0.31993294 0.5901342  0.4550493  0.20341226 0.9329713  0.9329713 ]\n",
      "BOXES [[58, 234, 291, 97]] [0] [0]\n",
      "counts 1\n",
      "[[58, 234, 291, 97]]\n",
      "Counts: 1\n",
      "28616\n",
      "28616\n",
      "32704\n",
      "IOU Score: 0.875\n",
      "\n",
      "416 416\n"
     ]
    },
    {
     "name": "stderr",
     "output_type": "stream",
     "text": [
      "  9%|▊         | 8/94 [00:01<00:20,  4.19it/s]"
     ]
    },
    {
     "name": "stdout",
     "output_type": "stream",
     "text": [
      "[0.34620613 0.5691718  0.46827376 0.22240259 0.9051191  0.9051191 ]\n",
      "BOXES [[71, 220, 299, 106]] [0] [0]\n",
      "counts 1\n",
      "[[71, 220, 299, 106]]\n",
      "Counts: 1\n",
      "9438\n",
      "32100\n",
      "18368\n",
      "IOU Score: 0.23002680965147454\n",
      "\n",
      "416 416\n"
     ]
    },
    {
     "name": "stderr",
     "output_type": "stream",
     "text": [
      " 11%|█         | 10/94 [00:02<00:18,  4.45it/s]"
     ]
    },
    {
     "name": "stdout",
     "output_type": "stream",
     "text": [
      "[0.45442435 0.60320145 0.5740494  0.24252747 0.9493154  0.9493154 ]\n",
      "BOXES [[106, 231, 367, 116]] [0] [0]\n",
      "counts 1\n",
      "[[106, 231, 367, 116]]\n",
      "Counts: 1\n",
      "40595\n",
      "43056\n",
      "42245\n",
      "IOU Score: 0.908043663042992\n",
      "\n",
      "416 416\n",
      "[0.6897242  0.52805346 0.37667164 0.20483825 0.9297597  0.9297597 ]\n",
      "BOXES [[320, 204, 241, 98]] [0] [0]\n",
      "counts 1\n",
      "[[320, 204, 241, 98]]\n",
      "Counts: 1\n",
      "23364\n",
      "23958\n",
      "26973\n",
      "IOU Score: 0.8475350963108064\n",
      "\n",
      "416 416\n"
     ]
    },
    {
     "name": "stderr",
     "output_type": "stream",
     "text": [
      " 12%|█▏        | 11/94 [00:02<00:19,  4.29it/s]"
     ]
    },
    {
     "name": "stdout",
     "output_type": "stream",
     "text": [
      "[0.3208179  0.6040403  0.45677498 0.161495   0.93710333 0.93710333]\n",
      "BOXES [[59, 250, 292, 77]] [0] [0]\n",
      "counts 1\n",
      "[[59, 250, 292, 77]]\n",
      "Counts: 1\n",
      "18130\n",
      "22854\n",
      "18130\n",
      "IOU Score: 0.7932965782795134\n",
      "\n",
      "416 416\n"
     ]
    },
    {
     "name": "stderr",
     "output_type": "stream",
     "text": [
      " 13%|█▎        | 12/94 [00:02<00:19,  4.22it/s]"
     ]
    },
    {
     "name": "stdout",
     "output_type": "stream",
     "text": [
      "[0.7505356  0.5852606  0.3615247  0.17228056 0.9240052  0.9240052 ]\n",
      "BOXES [[364, 239, 231, 82]] [0] [0]\n",
      "counts 1\n",
      "[[364, 239, 231, 82]]\n",
      "Counts: 1\n",
      "15042\n",
      "19256\n",
      "15180\n",
      "IOU Score: 0.7756007012478086\n",
      "\n",
      "416 416\n"
     ]
    },
    {
     "name": "stderr",
     "output_type": "stream",
     "text": [
      " 15%|█▍        | 14/94 [00:03<00:17,  4.58it/s]"
     ]
    },
    {
     "name": "stdout",
     "output_type": "stream",
     "text": [
      "[0.56312454 0.5749503  0.35202038 0.17354204 0.9272542  0.9272542 ]\n",
      "BOXES [[247, 233, 225, 83]] [0] [0]\n",
      "counts 1\n",
      "[[247, 233, 225, 83]]\n",
      "Counts: 1\n",
      "18592\n",
      "18984\n",
      "20340\n",
      "IOU Score: 0.8967779278410187\n",
      "\n",
      "416 416\n",
      "[0.62486374 0.5738801  0.70655984 0.37095487 0.9439708  0.9439708 ]\n",
      "BOXES [[173, 186, 452, 178]] [0] [0]\n",
      "counts 1\n",
      "[[173, 186, 452, 178]]\n",
      "Counts: 1\n",
      "80371\n",
      "81087\n",
      "86714\n",
      "IOU Score: 0.9192611231842617\n",
      "\n",
      "416 416\n"
     ]
    },
    {
     "name": "stderr",
     "output_type": "stream",
     "text": [
      " 17%|█▋        | 16/94 [00:03<00:15,  5.05it/s]"
     ]
    },
    {
     "name": "stdout",
     "output_type": "stream",
     "text": [
      "[0.47457287 0.61953735 0.41954234 0.20583874 0.9489468  0.9489468 ]\n",
      "BOXES [[169, 248, 268, 98]] [0] [0]\n",
      "counts 1\n",
      "[[169, 248, 268, 98]]\n",
      "Counts: 1\n",
      "21845\n",
      "26631\n",
      "21845\n",
      "IOU Score: 0.8202846306935526\n",
      "\n",
      "416 416\n",
      "[0.47011334 0.6543294  0.470619   0.23560725 0.93396306 0.93396306]\n",
      "BOXES [[149, 257, 301, 113]] [0] [0]\n",
      "counts 1\n",
      "[[149, 257, 301, 113]]\n",
      "Counts: 1\n",
      "32616\n",
      "34428\n",
      "33372\n",
      "IOU Score: 0.927012278308322\n",
      "\n",
      "416 416\n"
     ]
    },
    {
     "name": "stderr",
     "output_type": "stream",
     "text": [
      " 19%|█▉        | 18/94 [00:03<00:14,  5.40it/s]"
     ]
    },
    {
     "name": "stdout",
     "output_type": "stream",
     "text": [
      "[0.6483742  0.58370715 0.33463416 0.14803419 0.92491275 0.92491275]\n",
      "BOXES [[307, 244, 214, 71]] [0] [0]\n",
      "counts 1\n",
      "[[307, 244, 214, 71]]\n",
      "Counts: 1\n",
      "14910\n",
      "15480\n",
      "16247\n",
      "IOU Score: 0.8866028423618957\n",
      "\n",
      "416 416\n",
      "[0.1986342  0.6131262  0.38478497 0.1717144  0.93829155 0.93829155]\n",
      "BOXES [[4, 253, 246, 82]] [0] [0]\n",
      "counts 1\n",
      "[[4, 253, 246, 82]]\n",
      "Counts: 1\n",
      "16614\n",
      "20501\n",
      "17466\n",
      "IOU Score: 0.7780639722755585\n",
      "\n",
      "416 416\n"
     ]
    },
    {
     "name": "stderr",
     "output_type": "stream",
     "text": [
      " 20%|██        | 19/94 [00:04<00:15,  4.96it/s]"
     ]
    },
    {
     "name": "stdout",
     "output_type": "stream",
     "text": [
      "[0.21345234 0.6531277  0.4209289  0.23517647 0.9336457  0.9336457 ]\n",
      "BOXES [[1, 257, 269, 112]] [0] [0]\n",
      "counts 1\n",
      "[[1, 257, 269, 112]]\n",
      "Counts: 1\n",
      "28248\n",
      "30510\n",
      "28248\n",
      "IOU Score: 0.9258603736479842\n",
      "\n",
      "416 416\n",
      "[0.28926888 0.6342215  0.51817936 0.25717127 0.940283   0.940283  ]\n"
     ]
    },
    {
     "name": "stderr",
     "output_type": "stream",
     "text": [
      " 21%|██▏       | 20/94 [00:04<00:15,  4.93it/s]"
     ]
    },
    {
     "name": "stdout",
     "output_type": "stream",
     "text": [
      "BOXES [[19, 242, 331, 123]] [0] [0]\n",
      "counts 1\n",
      "[[19, 242, 331, 123]]\n",
      "Counts: 1\n",
      "36424\n",
      "41168\n",
      "37206\n",
      "IOU Score: 0.8682717520858164\n",
      "\n",
      "416 416\n"
     ]
    },
    {
     "name": "stderr",
     "output_type": "stream",
     "text": [
      " 23%|██▎       | 22/94 [00:04<00:14,  4.91it/s]"
     ]
    },
    {
     "name": "stdout",
     "output_type": "stream",
     "text": [
      "[0.6799153  0.5627844  0.55184937 0.23326632 0.937973   0.937973  ]\n",
      "BOXES [[258, 214, 353, 111]] [0] [0]\n",
      "counts 1\n",
      "[[258, 214, 353, 111]]\n",
      "Counts: 1\n",
      "34884\n",
      "39648\n",
      "36252\n",
      "IOU Score: 0.8504973668812171\n",
      "\n",
      "416 416\n",
      "[0.2732934  0.6534552  0.52976173 0.25288346 0.9443923  0.9443923 ]\n",
      "BOXES [[4, 252, 339, 121]] [0] [0]\n",
      "counts 1\n",
      "[[4, 252, 339, 121]]\n",
      "Counts: 1\n",
      "36624\n",
      "41480\n",
      "36624\n",
      "IOU Score: 0.8829315332690453\n",
      "\n",
      "416 416\n"
     ]
    },
    {
     "name": "stderr",
     "output_type": "stream",
     "text": [
      " 24%|██▍       | 23/94 [00:05<00:14,  4.82it/s]"
     ]
    },
    {
     "name": "stdout",
     "output_type": "stream",
     "text": [
      "[0.30013755 0.57062274 0.549683   0.37287745 0.9512945  0.9512945 ]\n",
      "BOXES [[16, 184, 351, 178]] [0] [0]\n",
      "counts 1\n",
      "[[16, 184, 351, 178]]\n",
      "Counts: 1\n",
      "58587\n",
      "63008\n",
      "59249\n",
      "IOU Score: 0.9201664834301869\n",
      "\n",
      "416 416\n"
     ]
    },
    {
     "name": "stderr",
     "output_type": "stream",
     "text": [
      " 26%|██▌       | 24/94 [00:05<00:14,  4.71it/s]"
     ]
    },
    {
     "name": "stdout",
     "output_type": "stream",
     "text": [
      "[0.79184854 0.60291314 0.37220493 0.18013594 0.9217418  0.9217418 ]\n",
      "BOXES [[387, 246, 238, 86]] [0] [0]\n",
      "counts 1\n",
      "[[387, 246, 238, 86]]\n",
      "Counts: 1\n",
      "15232\n",
      "20793\n",
      "15776\n",
      "IOU Score: 0.7138773023386605\n",
      "\n",
      "416 416\n"
     ]
    },
    {
     "name": "stderr",
     "output_type": "stream",
     "text": [
      " 27%|██▋       | 25/94 [00:05<00:15,  4.56it/s]"
     ]
    },
    {
     "name": "stdout",
     "output_type": "stream",
     "text": [
      "[0.6847864  0.5854094  0.34342682 0.16033244 0.93251777 0.93251777]\n",
      "BOXES [[328, 242, 219, 76]] [0] [0]\n",
      "counts 1\n",
      "[[328, 242, 219, 76]]\n",
      "Counts: 1\n",
      "16500\n",
      "16940\n",
      "18942\n",
      "IOU Score: 0.8513053348467651\n",
      "\n",
      "416 416\n"
     ]
    },
    {
     "name": "stderr",
     "output_type": "stream",
     "text": [
      " 28%|██▊       | 26/94 [00:05<00:14,  4.64it/s]"
     ]
    },
    {
     "name": "stdout",
     "output_type": "stream",
     "text": [
      "[0.8010291  0.54967177 0.321942   0.17761275 0.92484933 0.92484933]\n",
      "BOXES [[409, 220, 206, 85]] [0] [0]\n",
      "counts 1\n",
      "[[409, 220, 206, 85]]\n",
      "Counts: 1\n",
      "16564\n",
      "17802\n",
      "17347\n",
      "IOU Score: 0.8912563895614743\n",
      "\n",
      "416 416\n"
     ]
    },
    {
     "name": "stderr",
     "output_type": "stream",
     "text": [
      " 29%|██▊       | 27/94 [00:05<00:15,  4.46it/s]"
     ]
    },
    {
     "name": "stdout",
     "output_type": "stream",
     "text": [
      "[0.21984233 0.57838327 0.41981295 0.21590304 0.9295352  0.9295352 ]\n",
      "BOXES [[6, 225, 268, 103]] [0] [0]\n",
      "counts 1\n",
      "[[6, 225, 268, 103]]\n",
      "Counts: 1\n",
      "26058\n",
      "27976\n",
      "29754\n",
      "IOU Score: 0.8227456428391008\n",
      "\n",
      "416 416\n",
      "[0.590087   0.62952125 0.54212695 0.25842008 0.9422074  0.9422074 ]\n",
      "BOXES [[204, 240, 346, 124]] [0] [0]\n",
      "counts 1\n",
      "[[204, 240, 346, 124]]\n",
      "Counts: 1\n",
      "36852\n",
      "43375\n",
      "36852\n",
      "IOU Score: 0.8496138328530259\n",
      "\n"
     ]
    },
    {
     "name": "stderr",
     "output_type": "stream",
     "text": [
      " 31%|███       | 29/94 [00:06<00:13,  4.68it/s]"
     ]
    },
    {
     "name": "stdout",
     "output_type": "stream",
     "text": [
      "416 416\n",
      "[0.36806914 0.62660795 0.66028076 0.2826855  0.9475822  0.9475822 ]\n",
      "BOXES [[24, 232, 422, 135]] [0] [0]\n",
      "counts 1\n",
      "[[24, 232, 422, 135]]\n",
      "Counts: 1\n",
      "49875\n",
      "57528\n",
      "50250\n",
      "IOU Score: 0.8613543339723331\n",
      "\n",
      "416 416\n"
     ]
    },
    {
     "name": "stderr",
     "output_type": "stream",
     "text": [
      " 33%|███▎      | 31/94 [00:06<00:13,  4.68it/s]"
     ]
    },
    {
     "name": "stdout",
     "output_type": "stream",
     "text": [
      "[0.5664516  0.5256728  0.6002198  0.22820106 0.93550104 0.93550104]\n",
      "BOXES [[170, 197, 384, 109]] [0] [0]\n",
      "counts 1\n",
      "[[170, 197, 384, 109]]\n",
      "Counts: 1\n",
      "40920\n",
      "42350\n",
      "43524\n",
      "IOU Score: 0.9102638252435823\n",
      "\n",
      "416 416\n",
      "[0.7949606  0.6241384  0.4001742  0.19412166 0.9211984  0.9211984 ]\n",
      "BOXES [[380, 252, 256, 93]] [0] [0]\n",
      "counts 1\n",
      "[[380, 252, 256, 93]]\n",
      "Counts: 1\n",
      "23130\n",
      "24158\n",
      "30303\n",
      "IOU Score: 0.7382464651622993\n",
      "\n",
      "416 416\n"
     ]
    },
    {
     "name": "stderr",
     "output_type": "stream",
     "text": [
      " 34%|███▍      | 32/94 [00:07<00:14,  4.40it/s]"
     ]
    },
    {
     "name": "stdout",
     "output_type": "stream",
     "text": [
      "[0.73196465 0.5750352  0.42240766 0.1793914  0.93069685 0.93069685]\n",
      "BOXES [[333, 233, 270, 86]] [0] [0]\n",
      "counts 1\n",
      "[[333, 233, 270, 86]]\n",
      "Counts: 1\n",
      "23577\n",
      "23577\n",
      "26880\n",
      "IOU Score: 0.8771205357142857\n",
      "\n",
      "416 416\n"
     ]
    },
    {
     "name": "stderr",
     "output_type": "stream",
     "text": [
      " 35%|███▌      | 33/94 [00:07<00:14,  4.34it/s]"
     ]
    },
    {
     "name": "stdout",
     "output_type": "stream",
     "text": [
      "[0.6580374  0.63697207 0.5634058  0.26454324 0.93932617 0.93932617]\n",
      "BOXES [[241, 242, 360, 126]] [0] [0]\n",
      "counts 1\n",
      "[[241, 242, 360, 126]]\n",
      "Counts: 1\n",
      "45085\n",
      "45847\n",
      "47925\n",
      "IOU Score: 0.9260172119867727\n",
      "\n",
      "416 416\n"
     ]
    },
    {
     "name": "stderr",
     "output_type": "stream",
     "text": [
      " 36%|███▌      | 34/94 [00:07<00:14,  4.22it/s]"
     ]
    },
    {
     "name": "stdout",
     "output_type": "stream",
     "text": [
      "[0.4111867  0.62121046 0.557511   0.24239562 0.9525484  0.9525484 ]\n",
      "BOXES [[85, 240, 356, 116]] [0] [0]\n",
      "counts 1\n",
      "[[85, 240, 356, 116]]\n",
      "Counts: 1\n",
      "36435\n",
      "41769\n",
      "36435\n",
      "IOU Score: 0.8722976370035194\n",
      "\n",
      "416 416\n"
     ]
    },
    {
     "name": "stderr",
     "output_type": "stream",
     "text": [
      " 37%|███▋      | 35/94 [00:07<00:13,  4.22it/s]"
     ]
    },
    {
     "name": "stdout",
     "output_type": "stream",
     "text": [
      "[0.46677047 0.524994   0.42227727 0.18000625 0.9304019  0.9304019 ]\n",
      "BOXES [[163, 208, 270, 86]] [0] [0]\n",
      "counts 1\n",
      "[[163, 208, 270, 86]]\n",
      "Counts: 1\n",
      "19789\n",
      "23577\n",
      "21845\n",
      "IOU Score: 0.7720126399563063\n",
      "\n",
      "416 416\n"
     ]
    },
    {
     "name": "stderr",
     "output_type": "stream",
     "text": [
      " 38%|███▊      | 36/94 [00:08<00:14,  4.02it/s]"
     ]
    },
    {
     "name": "stdout",
     "output_type": "stream",
     "text": [
      "[0.7064811  0.5963663  0.38099247 0.15591134 0.92605203 0.92605203]\n",
      "BOXES [[330, 249, 243, 74]] [0] [0]\n",
      "counts 1\n",
      "[[330, 249, 243, 74]]\n",
      "Counts: 1\n",
      "16038\n",
      "18300\n",
      "16368\n",
      "IOU Score: 0.8608695652173913\n",
      "\n",
      "416 416\n"
     ]
    },
    {
     "name": "stderr",
     "output_type": "stream",
     "text": [
      " 40%|████      | 38/94 [00:08<00:13,  4.24it/s]"
     ]
    },
    {
     "name": "stdout",
     "output_type": "stream",
     "text": [
      "[0.23359193 0.59702516 0.4043026  0.17619053 0.9337614  0.9337614 ]\n",
      "BOXES [[20, 244, 258, 84]] [0] [0]\n",
      "counts 1\n",
      "[[20, 244, 258, 84]]\n",
      "Counts: 1\n",
      "18012\n",
      "22015\n",
      "20746\n",
      "IOU Score: 0.7277869812921735\n",
      "\n",
      "416 416\n",
      "[0.59077865 0.581333   0.59271866 0.22509351 0.89240843 0.89240843]\n",
      "[0.8243447  0.55408895 0.33466545 0.16688858 0.8162273  0.8162273 ]\n",
      "BOXES [[188, 225, 379, 108], [420, 225, 214, 80]] [0] [0, 0]\n",
      "counts 2\n",
      "[[188, 225, 379, 108], [420, 225, 214, 80]]\n",
      "Counts: 2\n",
      "30738\n",
      "41420\n",
      "34404\n",
      "IOU Score: 0.6817637404072218\n",
      "\n",
      "416 416\n"
     ]
    },
    {
     "name": "stderr",
     "output_type": "stream",
     "text": [
      " 43%|████▎     | 40/94 [00:08<00:11,  4.87it/s]"
     ]
    },
    {
     "name": "stdout",
     "output_type": "stream",
     "text": [
      "[0.23474762 0.53066146 0.4558665  0.2230369  0.9401002  0.9401002 ]\n",
      "BOXES [[4, 200, 291, 107]] [0] [0]\n",
      "counts 1\n",
      "[[4, 200, 291, 107]]\n",
      "Counts: 1\n",
      "30923\n",
      "31536\n",
      "32704\n",
      "IOU Score: 0.9281447909475643\n",
      "\n",
      "416 416\n",
      "[0.49923995 0.56020635 0.3365497  0.18829097 0.93194824 0.93194824]\n",
      "BOXES [[211, 223, 215, 90]] [0] [0]\n",
      "counts 1\n",
      "[[211, 223, 215, 90]]\n",
      "Counts: 1\n",
      "19565\n",
      "19656\n",
      "22321\n",
      "IOU Score: 0.872969837587007\n",
      "\n",
      "416 416\n"
     ]
    },
    {
     "name": "stderr",
     "output_type": "stream",
     "text": [
      " 45%|████▍     | 42/94 [00:09<00:09,  5.26it/s]"
     ]
    },
    {
     "name": "stdout",
     "output_type": "stream",
     "text": [
      "[0.56779516 0.58740366 0.37252977 0.15607335 0.9276992  0.9276992 ]\n",
      "BOXES [[244, 244, 238, 74]] [0] [0]\n",
      "counts 1\n",
      "[[244, 244, 238, 74]]\n",
      "Counts: 1\n",
      "16969\n",
      "17925\n",
      "17750\n",
      "IOU Score: 0.9071420934459532\n",
      "\n",
      "416 416\n",
      "[0.67231655 0.5502401  0.41960466 0.20342156 0.9272149  0.9272149 ]\n",
      "BOXES [[296, 215, 268, 97]] [0] [0]\n",
      "counts 1\n",
      "[[296, 215, 268, 97]]\n",
      "Counts: 1\n",
      "25175\n",
      "26362\n",
      "26334\n",
      "IOU Score: 0.9147560045056502\n",
      "\n",
      "416 416\n"
     ]
    },
    {
     "name": "stderr",
     "output_type": "stream",
     "text": [
      " 47%|████▋     | 44/94 [00:09<00:09,  5.28it/s]"
     ]
    },
    {
     "name": "stdout",
     "output_type": "stream",
     "text": [
      "[0.29144493 0.59663683 0.39517057 0.18651891 0.92129356 0.92129356]\n",
      "BOXES [[60, 241, 252, 89]] [0] [0]\n",
      "counts 1\n",
      "[[60, 241, 252, 89]]\n",
      "Counts: 1\n",
      "22140\n",
      "22770\n",
      "25250\n",
      "IOU Score: 0.8554868624420402\n",
      "\n",
      "416 416\n",
      "[0.23997614 0.5961249  0.33499038 0.1516014  0.92583656 0.92583656]\n",
      "BOXES [[46, 250, 214, 72]] [0] [0]\n",
      "counts 1\n",
      "[[46, 250, 214, 72]]\n",
      "Counts: 1\n",
      "15111\n",
      "15695\n",
      "16767\n",
      "IOU Score: 0.8709008126332776\n",
      "\n",
      "416 416\n"
     ]
    },
    {
     "name": "stderr",
     "output_type": "stream",
     "text": [
      " 48%|████▊     | 45/94 [00:09<00:09,  5.23it/s]"
     ]
    },
    {
     "name": "stdout",
     "output_type": "stream",
     "text": [
      "[0.702096   0.52901834 0.44542426 0.19614035 0.9376944  0.9376944 ]\n",
      "BOXES [[306, 206, 285, 94]] [0] [0]\n",
      "counts 1\n",
      "[[306, 206, 285, 94]]\n",
      "Counts: 1\n",
      "22041\n",
      "27170\n",
      "22515\n",
      "IOU Score: 0.7973158732455505\n",
      "\n",
      "416 416\n"
     ]
    },
    {
     "name": "stderr",
     "output_type": "stream",
     "text": [
      " 50%|█████     | 47/94 [00:10<00:08,  5.24it/s]"
     ]
    },
    {
     "name": "stdout",
     "output_type": "stream",
     "text": [
      "[0.68028206 0.493241   0.40055183 0.19261375 0.92277867 0.92277867]\n",
      "[0.37795052 0.57037205 0.29709283 0.13803741 0.8929228  0.8929228 ]\n",
      "BOXES [[307, 190, 256, 92], [146, 240, 190, 66]] [0 1] [0, 0]\n",
      "counts 2\n",
      "[[307, 190, 256, 92], [146, 240, 190, 66]]\n",
      "Counts: 2\n",
      "20916\n",
      "23901\n",
      "20916\n",
      "IOU Score: 0.8751098280406677\n",
      "\n",
      "416 416\n",
      "[0.7931262  0.6384168  0.38088673 0.17805122 0.9279007  0.9279007 ]\n",
      "BOXES [[385, 263, 243, 85]] [0] [0]\n",
      "counts 1\n",
      "[[385, 263, 243, 85]]\n",
      "Counts: 1\n",
      "14616\n",
      "20984\n",
      "14805\n",
      "IOU Score: 0.6903131346526237\n",
      "\n",
      "416 416\n"
     ]
    },
    {
     "name": "stderr",
     "output_type": "stream",
     "text": [
      " 52%|█████▏    | 49/94 [00:10<00:08,  5.35it/s]"
     ]
    },
    {
     "name": "stdout",
     "output_type": "stream",
     "text": [
      "[0.7600241  0.53373814 0.3586264  0.221835   0.93950933 0.93950933]\n",
      "BOXES [[371, 203, 229, 106]] [0] [0]\n",
      "counts 1\n",
      "[[371, 203, 229, 106]]\n",
      "Counts: 1\n",
      "21600\n",
      "24610\n",
      "23760\n",
      "IOU Score: 0.8068733657078819\n",
      "\n",
      "416 416\n",
      "[0.26847178 0.6874332  0.54359657 0.22503601 0.9531179  0.9531179 ]\n",
      "BOXES [[-2, 275, 347, 108]] [0] [0]\n",
      "counts 1\n",
      "[[-2, 275, 347, 108]]\n",
      "Counts: 1\n",
      "32825\n",
      "37932\n",
      "32825\n",
      "IOU Score: 0.8653643361805335\n",
      "\n",
      "416 416\n"
     ]
    },
    {
     "name": "stderr",
     "output_type": "stream",
     "text": [
      " 53%|█████▎    | 50/94 [00:10<00:09,  4.69it/s]"
     ]
    },
    {
     "name": "stdout",
     "output_type": "stream",
     "text": [
      "[0.380468   0.5880166  0.44501048 0.18313739 0.93188864 0.93188864]\n",
      "BOXES [[101, 238, 284, 87]] [0] [0]\n",
      "counts 1\n",
      "[[101, 238, 284, 87]]\n",
      "Counts: 1\n",
      "23320\n",
      "25080\n",
      "28462\n",
      "IOU Score: 0.7716233207597115\n",
      "\n",
      "416 416\n"
     ]
    },
    {
     "name": "stderr",
     "output_type": "stream",
     "text": [
      " 54%|█████▍    | 51/94 [00:11<00:09,  4.47it/s]"
     ]
    },
    {
     "name": "stdout",
     "output_type": "stream",
     "text": [
      "[0.6443764  0.58846897 0.5970696  0.2441917  0.93383086 0.93383086]\n",
      "BOXES [[221, 223, 382, 117]] [0] [0]\n",
      "counts 1\n",
      "[[221, 223, 382, 117]]\n",
      "Counts: 1\n",
      "43542\n",
      "45194\n",
      "53136\n",
      "IOU Score: 0.7947360735927576\n",
      "\n",
      "416 416\n"
     ]
    },
    {
     "name": "stderr",
     "output_type": "stream",
     "text": [
      " 55%|█████▌    | 52/94 [00:11<00:09,  4.50it/s]"
     ]
    },
    {
     "name": "stdout",
     "output_type": "stream",
     "text": [
      "[0.34632558 0.58810437 0.6551551  0.26600873 0.9380579  0.9380579 ]\n",
      "BOXES [[11, 218, 419, 127]] [0] [0]\n",
      "counts 1\n",
      "[[11, 218, 419, 127]]\n",
      "Counts: 1\n",
      "50840\n",
      "53760\n",
      "55208\n",
      "IOU Score: 0.8746215249105422\n",
      "\n",
      "416 416\n",
      "[0.46632499 0.60044837 0.35371917 0.15932938 0.9366841  0.9366841 ]\n",
      "BOXES [[185, 250, 226, 76]] [0] [0]\n",
      "counts 1\n",
      "[[185, 250, 226, 76]]\n",
      "Counts: 1\n"
     ]
    },
    {
     "name": "stderr",
     "output_type": "stream",
     "text": [
      " 56%|█████▋    | 53/94 [00:11<00:08,  4.62it/s]"
     ]
    },
    {
     "name": "stdout",
     "output_type": "stream",
     "text": [
      "16798\n",
      "17479\n",
      "17094\n",
      "IOU Score: 0.9450351617440225\n",
      "\n",
      "416 416\n"
     ]
    },
    {
     "name": "stderr",
     "output_type": "stream",
     "text": [
      " 59%|█████▊    | 55/94 [00:11<00:08,  4.58it/s]"
     ]
    },
    {
     "name": "stdout",
     "output_type": "stream",
     "text": [
      "[0.8653936  0.66103053 0.25319535 0.15562138 0.921055   0.921055  ]\n",
      "BOXES [[472, 280, 162, 74]] [0] [0]\n",
      "counts 1\n",
      "[[472, 280, 162, 74]]\n",
      "Counts: 1\n",
      "9780\n",
      "12225\n",
      "11040\n",
      "IOU Score: 0.7252502780867631\n",
      "\n",
      "416 416\n",
      "[0.7135397  0.54067326 0.33324447 0.18323508 0.9337469  0.9337469 ]\n",
      "BOXES [[349, 215, 213, 87]] [0] [0]\n",
      "counts 1\n",
      "[[349, 215, 213, 87]]\n",
      "Counts: 1\n",
      "17098\n",
      "18832\n",
      "17510\n",
      "IOU Score: 0.8884847225109125\n",
      "\n",
      "416 416\n"
     ]
    },
    {
     "name": "stderr",
     "output_type": "stream",
     "text": [
      " 60%|█████▉    | 56/94 [00:12<00:08,  4.71it/s]"
     ]
    },
    {
     "name": "stdout",
     "output_type": "stream",
     "text": [
      "[0.8081296  0.62714374 0.31372583 0.15980783 0.91612995 0.91612995]\n",
      "BOXES [[417, 263, 200, 76]] [0] [0]\n",
      "counts 1\n",
      "[[417, 263, 200, 76]]\n",
      "Counts: 1\n",
      "10545\n",
      "15477\n",
      "10545\n",
      "IOU Score: 0.681333591781353\n",
      "\n",
      "416 416\n"
     ]
    },
    {
     "name": "stderr",
     "output_type": "stream",
     "text": [
      " 62%|██████▏   | 58/94 [00:12<00:07,  4.60it/s]"
     ]
    },
    {
     "name": "stdout",
     "output_type": "stream",
     "text": [
      "[0.75045294 0.5788157  0.36626384 0.17183684 0.9305894  0.9305894 ]\n",
      "BOXES [[363, 236, 234, 82]] [0] [0]\n",
      "counts 1\n",
      "[[363, 236, 234, 82]]\n",
      "Counts: 1\n",
      "17550\n",
      "19505\n",
      "17550\n",
      "IOU Score: 0.8997692899256601\n",
      "\n",
      "416 416\n",
      "[0.5874779  0.5356747  0.38238752 0.21165632 0.9359308  0.9359308 ]\n",
      "BOXES [[253, 206, 244, 101]] [0] [0]\n",
      "counts 1\n",
      "[[253, 206, 244, 101]]\n",
      "Counts: 1\n",
      "24276\n",
      "24990\n",
      "26620\n",
      "IOU Score: 0.8881246798858564\n",
      "\n",
      "416 416\n"
     ]
    },
    {
     "name": "stderr",
     "output_type": "stream",
     "text": [
      " 64%|██████▍   | 60/94 [00:13<00:07,  4.67it/s]"
     ]
    },
    {
     "name": "stdout",
     "output_type": "stream",
     "text": [
      "[0.7233266  0.56981444 0.37841508 0.18277964 0.9311267  0.9311267 ]\n",
      "BOXES [[341, 229, 242, 87]] [0] [0]\n",
      "counts 1\n",
      "[[341, 229, 242, 87]]\n",
      "Counts: 1\n",
      "18720\n",
      "21384\n",
      "18720\n",
      "IOU Score: 0.8754208754208754\n",
      "\n",
      "416 416\n",
      "[0.58624065 0.5859791  0.75674206 0.1999256  0.9395513  0.9395513 ]\n",
      "BOXES [[133, 233, 484, 95]] [0] [0]\n",
      "counts 1\n",
      "[[133, 233, 484, 95]]\n",
      "Counts: 1\n",
      "28612\n",
      "46560\n",
      "31722\n",
      "IOU Score: 0.5760418763841353\n",
      "\n"
     ]
    },
    {
     "name": "stderr",
     "output_type": "stream",
     "text": [
      " 65%|██████▍   | 61/94 [00:13<00:06,  4.83it/s]"
     ]
    },
    {
     "name": "stdout",
     "output_type": "stream",
     "text": [
      "416 416\n",
      "[0.5328629  0.5861331  0.6243048  0.27172554 0.9393435  0.9393435 ]\n",
      "BOXES [[141, 216, 399, 130]] [0] [0]\n",
      "counts 1\n",
      "[[141, 216, 399, 130]]\n",
      "Counts: 1\n",
      "47000\n",
      "52400\n",
      "47000\n",
      "IOU Score: 0.8969465648854962\n",
      "\n",
      "416 416\n"
     ]
    },
    {
     "name": "stderr",
     "output_type": "stream",
     "text": [
      " 67%|██████▋   | 63/94 [00:13<00:06,  5.15it/s]"
     ]
    },
    {
     "name": "stdout",
     "output_type": "stream",
     "text": [
      "[0.39746004 0.4803701  0.57477653 0.29098052 0.93230116 0.93230116]\n",
      "[0.08401346 0.6996457  0.17573482 0.21952254 0.89623827 0.89623827]\n",
      "BOXES [[70, 160, 367, 139], [-3, 282, 112, 105]] [0 1] [0, 0]\n",
      "counts 2\n",
      "[[70, 160, 367, 139], [-3, 282, 112, 105]]\n",
      "Counts: 2\n",
      "50260\n",
      "51520\n",
      "61178\n",
      "IOU Score: 0.8049585188506999\n",
      "\n",
      "416 416\n",
      "[0.20020615 0.5866732  0.4055236  0.21749021 0.9245262  0.9245262 ]\n",
      "BOXES [[-1, 229, 259, 104]] [0] [0]\n",
      "counts 1\n",
      "[[-1, 229, 259, 104]]\n",
      "Counts: 1\n",
      "26460\n",
      "27300\n",
      "27216\n",
      "IOU Score: 0.9431137724550899\n",
      "\n",
      "416 416\n"
     ]
    },
    {
     "name": "stderr",
     "output_type": "stream",
     "text": [
      " 68%|██████▊   | 64/94 [00:13<00:05,  5.23it/s]"
     ]
    },
    {
     "name": "stdout",
     "output_type": "stream",
     "text": [
      "[0.88929456 0.6252875  0.22658697 0.20307302 0.9233189  0.9233189 ]\n",
      "BOXES [[496, 251, 145, 97]] [0] [0]\n",
      "counts 1\n",
      "[[496, 251, 145, 97]]\n",
      "Counts: 1\n",
      "12831\n",
      "14308\n",
      "12831\n",
      "IOU Score: 0.8967710371819961\n",
      "\n",
      "416 416\n"
     ]
    },
    {
     "name": "stderr",
     "output_type": "stream",
     "text": [
      " 70%|███████   | 66/94 [00:14<00:05,  5.25it/s]"
     ]
    },
    {
     "name": "stdout",
     "output_type": "stream",
     "text": [
      "[0.17280237 0.5987518  0.33668894 0.21439646 0.92006844 0.92006844]\n",
      "[0.69669956 0.5455706  0.408411   0.19795774 0.9465786  0.9465786 ]\n",
      "BOXES [[2, 236, 215, 102], [314, 213, 261, 95]] [1 0] [0, 0]\n",
      "counts 2\n",
      "[[2, 236, 215, 102], [314, 213, 261, 95]]\n",
      "Counts: 2\n",
      "0\n",
      "22248\n",
      "23852\n",
      "IOU Score: 0.0\n",
      "\n",
      "416 416\n",
      "[0.43413228 0.6279523  0.38864693 0.2095236  0.9276431  0.9276431 ]\n",
      "BOXES [[153, 251, 248, 100]] [0] [0]\n",
      "counts 1\n",
      "[[153, 251, 248, 100]]\n",
      "Counts: 1\n",
      "25149\n",
      "25149\n",
      "28930\n",
      "IOU Score: 0.8693052194953336\n",
      "\n",
      "416 416\n"
     ]
    },
    {
     "name": "stderr",
     "output_type": "stream",
     "text": [
      " 72%|███████▏  | 68/94 [00:14<00:05,  5.16it/s]"
     ]
    },
    {
     "name": "stdout",
     "output_type": "stream",
     "text": [
      "[0.4129042  0.6348277  0.5752088  0.18880707 0.9094407  0.9094407 ]\n",
      "BOXES [[80, 259, 368, 90]] [0] [0]\n",
      "counts 1\n",
      "[[80, 259, 368, 90]]\n",
      "Counts: 1\n",
      "16770\n",
      "33579\n",
      "17927\n",
      "IOU Score: 0.48278443113772457\n",
      "\n",
      "416 416\n",
      "[0.47996077 0.5907364  0.43332237 0.1925259  0.93109614 0.93109614]\n",
      "BOXES [[168, 237, 277, 92]] [0] [0]\n",
      "counts 1\n",
      "[[168, 237, 277, 92]]\n",
      "Counts: 1\n",
      "23490\n",
      "25854\n",
      "25839\n",
      "IOU Score: 0.8328901180725454\n",
      "\n"
     ]
    },
    {
     "name": "stderr",
     "output_type": "stream",
     "text": [
      " 73%|███████▎  | 69/94 [00:14<00:04,  5.16it/s]"
     ]
    },
    {
     "name": "stdout",
     "output_type": "stream",
     "text": [
      "416 416\n",
      "[0.25028422 0.66223204 0.49096563 0.27387226 0.94107836 0.94107836]\n",
      "BOXES [[3, 251, 314, 131]] [0] [0]\n",
      "counts 1\n",
      "[[3, 251, 314, 131]]\n",
      "Counts: 1\n",
      "38682\n",
      "41580\n",
      "38934\n",
      "IOU Score: 0.9246987951807228\n",
      "\n",
      "416 416\n"
     ]
    },
    {
     "name": "stderr",
     "output_type": "stream",
     "text": [
      " 76%|███████▌  | 71/94 [00:15<00:04,  5.26it/s]"
     ]
    },
    {
     "name": "stdout",
     "output_type": "stream",
     "text": [
      "[0.6334802  0.5750334  0.5223548  0.23127642 0.94311625 0.94311625]\n",
      "BOXES [[238, 220, 334, 111]] [0] [0]\n",
      "counts 1\n",
      "[[238, 220, 334, 111]]\n",
      "Counts: 1\n",
      "36297\n",
      "37520\n",
      "36624\n",
      "IOU Score: 0.9590456310936137\n",
      "\n",
      "416 416\n",
      "[0.4890995  0.62945485 0.61335635 0.27434036 0.9441676  0.9441676 ]\n",
      "BOXES [[117, 236, 392, 131]] [0] [0]\n",
      "counts 1\n",
      "[[117, 236, 392, 131]]\n",
      "Counts: 1\n",
      "49632\n",
      "51876\n",
      "52640\n",
      "IOU Score: 0.9043072662342395\n",
      "\n",
      "416 416\n"
     ]
    },
    {
     "name": "stderr",
     "output_type": "stream",
     "text": [
      " 78%|███████▊  | 73/94 [00:15<00:03,  5.38it/s]"
     ]
    },
    {
     "name": "stdout",
     "output_type": "stream",
     "text": [
      "[0.2705773  0.58268106 0.51769584 0.22363609 0.93307173 0.93307173]\n",
      "BOXES [[7, 225, 331, 107]] [0] [0]\n",
      "counts 1\n",
      "[[7, 225, 331, 107]]\n",
      "Counts: 1\n",
      "33480\n",
      "35856\n",
      "34100\n",
      "IOU Score: 0.9178638008553569\n",
      "\n",
      "416 416\n",
      "[0.6420211  0.6243016  0.6926851  0.35155705 0.941365   0.941365  ]\n",
      "BOXES [[188, 215, 443, 168]] [0] [0]\n",
      "counts 1\n",
      "[[188, 215, 443, 168]]\n",
      "Counts: 1\n",
      "75036\n",
      "75036\n",
      "113678\n",
      "IOU Score: 0.6600749485388554\n",
      "\n",
      "416 416\n"
     ]
    },
    {
     "name": "stderr",
     "output_type": "stream",
     "text": [
      " 80%|███████▉  | 75/94 [00:15<00:03,  5.34it/s]"
     ]
    },
    {
     "name": "stdout",
     "output_type": "stream",
     "text": [
      "[0.350238   0.63589734 0.33742803 0.13757409 0.93113446 0.93113446]\n",
      "[0.7662044  0.6344005  0.32164016 0.14563765 0.92759717 0.92759717]\n",
      "BOXES [[116, 272, 215, 66], [387, 269, 205, 69]] [0 1] [0, 0]\n",
      "counts 2\n",
      "[[116, 272, 215, 66], [387, 269, 205, 69]]\n",
      "Counts: 2\n",
      "0\n",
      "14472\n",
      "12383\n",
      "IOU Score: 0.0\n",
      "\n",
      "416 416\n",
      "[0.73977345 0.5823792  0.4819454  0.20595759 0.9362615  0.9362615 ]\n",
      "BOXES [[319, 230, 308, 98]] [0] [0]\n",
      "counts 1\n",
      "[[319, 230, 308, 98]]\n",
      "Counts: 1\n",
      "30591\n",
      "30591\n",
      "35409\n",
      "IOU Score: 0.863932898415657\n",
      "\n"
     ]
    },
    {
     "name": "stderr",
     "output_type": "stream",
     "text": [
      " 81%|████████  | 76/94 [00:16<00:03,  5.34it/s]"
     ]
    },
    {
     "name": "stdout",
     "output_type": "stream",
     "text": [
      "416 416\n",
      "[0.79899985 0.6034973  0.36595073 0.18217094 0.9252843  0.9252843 ]\n",
      "BOXES [[394, 245, 234, 87]] [0] [0]\n",
      "counts 1\n",
      "[[394, 245, 234, 87]]\n",
      "Counts: 1\n",
      "15890\n",
      "20680\n",
      "15890\n",
      "IOU Score: 0.7683752417794971\n",
      "\n",
      "416 416\n"
     ]
    },
    {
     "name": "stderr",
     "output_type": "stream",
     "text": [
      " 83%|████████▎ | 78/94 [00:16<00:03,  5.23it/s]"
     ]
    },
    {
     "name": "stdout",
     "output_type": "stream",
     "text": [
      "[0.26877907 0.6344128  0.40907398 0.18646723 0.9223718  0.9223718 ]\n",
      "BOXES [[41, 259, 261, 89]] [0] [0]\n",
      "counts 1\n",
      "[[41, 259, 261, 89]]\n",
      "Counts: 1\n",
      "23310\n",
      "23580\n",
      "28930\n",
      "IOU Score: 0.7982876712328767\n",
      "\n",
      "416 416\n",
      "[0.6485107  0.6078847  0.5436648  0.21582963 0.9426934  0.9426934 ]\n",
      "BOXES [[241, 239, 347, 103]] [0] [0]\n",
      "counts 1\n",
      "[[241, 239, 347, 103]]\n",
      "Counts: 1\n",
      "30969\n",
      "36192\n",
      "30969\n",
      "IOU Score: 0.8556863395225465\n",
      "\n"
     ]
    },
    {
     "name": "stderr",
     "output_type": "stream",
     "text": [
      " 84%|████████▍ | 79/94 [00:16<00:02,  5.16it/s]"
     ]
    },
    {
     "name": "stdout",
     "output_type": "stream",
     "text": [
      "416 416\n",
      "[0.81868744 0.60877806 0.32660896 0.15827624 0.9333722  0.9333722 ]\n",
      "[0.54912305 0.6183717  0.30588013 0.1648279  0.95040566 0.95040566]\n",
      "BOXES [[418, 254, 209, 75], [253, 256, 195, 79]] [1] [0, 0]\n",
      "counts 2\n",
      "[[418, 254, 209, 75], [253, 256, 195, 79]]\n",
      "Counts: 2\n",
      "15120\n",
      "15960\n",
      "15840\n",
      "IOU Score: 0.9064748201438849\n",
      "\n",
      "416 416\n"
     ]
    },
    {
     "name": "stderr",
     "output_type": "stream",
     "text": [
      " 86%|████████▌ | 81/94 [00:16<00:02,  5.41it/s]"
     ]
    },
    {
     "name": "stdout",
     "output_type": "stream",
     "text": [
      "[0.28401142 0.67893857 0.56582654 0.24194112 0.94066113 0.94066113]\n",
      "BOXES [[0, 267, 362, 116]] [0] [0]\n",
      "counts 1\n",
      "[[0, 267, 362, 116]]\n",
      "Counts: 1\n",
      "32010\n",
      "42471\n",
      "32010\n",
      "IOU Score: 0.7536907536907537\n",
      "\n",
      "416 416\n",
      "[0.29276797 0.5897313  0.36321416 0.16725633 0.9301481  0.9301481 ]\n",
      "BOXES [[71, 243, 232, 80]] [0] [0]\n",
      "counts 1\n",
      "[[71, 243, 232, 80]]\n",
      "Counts: 1\n",
      "16720\n",
      "18873\n",
      "16720\n",
      "IOU Score: 0.8859216870661792\n",
      "\n",
      "416 416\n"
     ]
    },
    {
     "name": "stderr",
     "output_type": "stream",
     "text": [
      " 88%|████████▊ | 83/94 [00:17<00:02,  5.36it/s]"
     ]
    },
    {
     "name": "stdout",
     "output_type": "stream",
     "text": [
      "[0.30239126 0.5946647  0.53028435 0.21225542 0.91980684 0.91980684]\n",
      "BOXES [[23, 234, 339, 101]] [0] [0]\n",
      "counts 1\n",
      "[[23, 234, 339, 101]]\n",
      "Counts: 1\n",
      "32334\n",
      "34680\n",
      "35616\n",
      "IOU Score: 0.8517464833254307\n",
      "\n",
      "416 416\n",
      "[0.27858412 0.6126193  0.55370253 0.28096235 0.942017   0.942017  ]\n",
      "BOXES [[1, 227, 354, 134]] [0] [0]\n",
      "counts 1\n",
      "[[1, 227, 354, 134]]\n",
      "Counts: 1\n",
      "44730\n",
      "47925\n",
      "47784\n",
      "IOU Score: 0.877420114164656\n",
      "\n",
      "416 416\n"
     ]
    },
    {
     "name": "stderr",
     "output_type": "stream",
     "text": [
      " 90%|█████████ | 85/94 [00:17<00:01,  5.18it/s]"
     ]
    },
    {
     "name": "stdout",
     "output_type": "stream",
     "text": [
      "[0.78272736 0.6140332  0.35708827 0.18071848 0.9309507  0.9309507 ]\n",
      "BOXES [[386, 251, 228, 86]] [0] [0]\n",
      "counts 1\n",
      "[[386, 251, 228, 86]]\n",
      "Counts: 1\n",
      "14003\n",
      "19923\n",
      "14003\n",
      "IOU Score: 0.7028559955829945\n",
      "\n",
      "416 416\n",
      "[0.5746339  0.6051444  0.35745233 0.15774396 0.9346548  0.9346548 ]\n",
      "BOXES [[253, 252, 228, 75]] [0] [0]\n",
      "counts 1\n",
      "[[253, 252, 228, 75]]\n",
      "Counts: 1\n",
      "15620\n",
      "17404\n",
      "16060\n",
      "IOU Score: 0.8753642681013226\n",
      "\n",
      "416 416\n"
     ]
    },
    {
     "name": "stderr",
     "output_type": "stream",
     "text": [
      " 93%|█████████▎| 87/94 [00:18<00:01,  5.24it/s]"
     ]
    },
    {
     "name": "stdout",
     "output_type": "stream",
     "text": [
      "[0.65991455 0.60257155 0.55486643 0.22929488 0.9420563  0.9420563 ]\n",
      "BOXES [[244, 234, 355, 110]] [0] [0]\n",
      "counts 1\n",
      "[[244, 234, 355, 110]]\n",
      "Counts: 1\n",
      "34900\n",
      "39516\n",
      "34900\n",
      "IOU Score: 0.8831865573438608\n",
      "\n",
      "416 416\n",
      "[0.70249176 0.49548358 0.35831323 0.20803823 0.9192009  0.9192009 ]\n",
      "[0.39142224 0.54435766 0.34209067 0.19128653 0.9017634  0.9017634 ]\n",
      "BOXES [[334, 187, 229, 99], [141, 215, 218, 91]] [0 1] [0, 0]\n",
      "counts 2\n",
      "[[334, 187, 229, 99], [141, 215, 218, 91]]\n",
      "Counts: 2\n",
      "23000\n",
      "23000\n",
      "30736\n",
      "IOU Score: 0.7483081728266527\n",
      "\n",
      "416 416\n"
     ]
    },
    {
     "name": "stderr",
     "output_type": "stream",
     "text": [
      " 95%|█████████▍| 89/94 [00:18<00:00,  5.40it/s]"
     ]
    },
    {
     "name": "stdout",
     "output_type": "stream",
     "text": [
      "[0.7459537  0.6171144  0.34547046 0.16354674 0.9334494  0.9334494 ]\n",
      "BOXES [[366, 257, 221, 78]] [0] [0]\n",
      "counts 1\n",
      "[[366, 257, 221, 78]]\n",
      "Counts: 1\n",
      "14839\n",
      "17538\n",
      "14910\n",
      "IOU Score: 0.8426940768924982\n",
      "\n",
      "416 416\n",
      "[0.7514604  0.5432896  0.4847816  0.20181921 0.9424414  0.9424414 ]\n",
      "[0.11002939 0.70764023 0.20260578 0.24101654 0.8938631  0.8938631 ]\n",
      "BOXES [[325, 212, 310, 96], [5, 281, 129, 115]] [0 1] [0, 0]\n",
      "counts 2\n",
      "[[325, 212, 310, 96], [5, 281, 129, 115]]\n",
      "Counts: 2\n",
      "0\n",
      "30167\n",
      "14630\n",
      "IOU Score: 0.0\n",
      "\n",
      "416 416\n"
     ]
    },
    {
     "name": "stderr",
     "output_type": "stream",
     "text": [
      " 97%|█████████▋| 91/94 [00:18<00:00,  5.56it/s]"
     ]
    },
    {
     "name": "stdout",
     "output_type": "stream",
     "text": [
      "[0.6635752  0.70139575 0.5403904  0.24297749 0.9289744  0.9289744 ]\n",
      "BOXES [[251, 278, 345, 116]] [0] [0]\n",
      "counts 1\n",
      "[[251, 278, 345, 116]]\n",
      "Counts: 1\n",
      "36270\n",
      "40482\n",
      "38750\n",
      "IOU Score: 0.8442344397374424\n",
      "\n",
      "416 416\n",
      "[0.48869583 0.58961284 0.4343481  0.2481359  0.92749214 0.92749214]\n",
      "[0.10642012 0.6383523  0.20666902 0.2030523  0.9095578  0.9095578 ]\n",
      "BOXES [[173, 223, 277, 119], [2, 257, 132, 97]] [0 1] [0, 0]\n",
      "counts 2\n",
      "[[173, 223, 277, 119], [2, 257, 132, 97]]\n",
      "Counts: 2\n",
      "31860\n",
      "33360\n",
      "33210\n",
      "IOU Score: 0.9178910976663786\n",
      "\n",
      "416 416\n"
     ]
    },
    {
     "name": "stderr",
     "output_type": "stream",
     "text": [
      " 99%|█████████▉| 93/94 [00:19<00:00,  5.63it/s]"
     ]
    },
    {
     "name": "stdout",
     "output_type": "stream",
     "text": [
      "[0.9112899  0.50406724 0.16773257 0.15382396 0.88390905 0.88390905]\n",
      "BOXES [[529, 204, 107, 73]] [0] [0]\n",
      "counts 1\n",
      "[[529, 204, 107, 73]]\n",
      "Counts: 1\n",
      "6732\n",
      "7992\n",
      "7004\n",
      "IOU Score: 0.8146176185866408\n",
      "\n",
      "416 416\n",
      "[0.32009712 0.59073603 0.39301378 0.16648228 0.9256019  0.9256019 ]\n",
      "BOXES [[78, 243, 251, 79]] [0] [0]\n",
      "counts 1\n",
      "[[78, 243, 251, 79]]\n",
      "Counts: 1\n",
      "19600\n",
      "20160\n",
      "21070\n",
      "IOU Score: 0.9061488673139159\n",
      "\n",
      "416 416\n"
     ]
    },
    {
     "name": "stderr",
     "output_type": "stream",
     "text": [
      "100%|██████████| 94/94 [00:19<00:00,  4.84it/s]"
     ]
    },
    {
     "name": "stdout",
     "output_type": "stream",
     "text": [
      "[0.3289839  0.71345925 0.522956   0.280719   0.9146465  0.9146465 ]\n",
      "BOXES [[43, 275, 334, 134]] [0] [0]\n",
      "counts 1\n",
      "[[43, 275, 334, 134]]\n",
      "Counts: 1\n",
      "36624\n",
      "45225\n",
      "36624\n",
      "IOU Score: 0.8098175787728027\n",
      "\n"
     ]
    },
    {
     "name": "stderr",
     "output_type": "stream",
     "text": [
      "\n"
     ]
    }
   ],
   "source": [
    "## Initialize the parameters\n",
    "# Confidence threshold\n",
    "conf_threshold = 0.5\n",
    "# Non-maximum suppression threshold (maximum bounding box)\n",
    "nms_threshold = 0.05\n",
    "input_width = 416  # Width of network's input image\n",
    "input_height = 416  # Height of network's input image\n",
    "\n",
    "# Load class name\n",
    "classes = \"Herring\"\n",
    "# Give the configuration and weight files for the model and load the network using them.\n",
    "modelConfiguration = os.path.join(HERRING_WEIGHTS, \"herring.cfg\")\n",
    "modelWeights = os.path.join(HERRING_WEIGHTS, \"herring_final.weights\")\n",
    "net = cv2.dnn.readNetFromDarknet(modelConfiguration, modelWeights)\n",
    "\n",
    "\n",
    "iou_scores = []\n",
    "annotated_counts = []\n",
    "predicted_counts = []\n",
    "# Loop through annotated files\n",
    "for a in tqdm(annotations):\n",
    "    name = a.split(\"/\")[-1].split(\".\")[0]\n",
    "\n",
    "    # Loop through image files (non-annotated) to make a prediction on\n",
    "    for herring_image in images:\n",
    "\n",
    "        if name not in herring_image:\n",
    "            continue\n",
    "\n",
    "        frame = cv2.imread(herring_image)\n",
    "\n",
    "        # # Get frame from the video\n",
    "        # hasFrame, frame = cap.read()\n",
    "\n",
    "        input_width, input_height, _ = frame.shape\n",
    "        input_width = input_height = min(input_width, input_height)\n",
    "        input_width = 416  # Width of network's input image\n",
    "        input_height = 416  # Height of network's input image\n",
    "\n",
    "        print(input_height, input_width)\n",
    "        # Create a 4D blob from a frame.\n",
    "        blob = cv2.dnn.blobFromImage(\n",
    "            frame, 1 / 255, (input_width, input_height), [0, 0, 0], 1, crop=False\n",
    "        )\n",
    "\n",
    "        # Sets the input to the network\n",
    "        net.setInput(blob)\n",
    "\n",
    "        # Runs the forward pass to get output of the output layers\n",
    "        outs = net.forward(inference_utils.get_outputs_names(net=net))\n",
    "        # break\n",
    "        # Remove the bounding boxes with low confidence\n",
    "        counts, boxes = inference_utils.postprocess(\n",
    "            frame=frame,\n",
    "            outs=outs,\n",
    "            tracker=None,\n",
    "            conf_threshold=conf_threshold,\n",
    "            nms_threshold=nms_threshold,\n",
    "            classes=classes,\n",
    "        )\n",
    "\n",
    "        print(boxes)\n",
    "        # cv2.imshow(herring_image, frame)\n",
    "        # cv2.waitKey(0)\n",
    "        print(\"Counts:\", counts)\n",
    "\n",
    "        # Get score\n",
    "        xmins, xmaxs, ymins, ymaxs = get_dimensions_of_annotations(fpath=a)\n",
    "        # Predicted\n",
    "        if len(boxes) == 0:  # If nothing was predicted\n",
    "            boxes = [[0, 0, 0, 0]]\n",
    "        left, top, width, height = boxes[0][0], boxes[0][1], boxes[0][2], boxes[0][3]\n",
    "        xmin, ymin, xmax, ymax = left, top, left + width, top + height\n",
    "        predicted_box = xmin, ymin, xmax, ymax\n",
    "        # Annotated\n",
    "        if len(xmins) == 0:  # If nothing was annotated\n",
    "            annotated_box = [0, 0, 0, 0]\n",
    "            annotated_count = 0\n",
    "        else:\n",
    "            annotated_box = xmins[0], xmaxs[0], ymins[0], ymaxs[0]\n",
    "            annotated_count = len(xmins)\n",
    "\n",
    "        annotated_counts.append(annotated_count)\n",
    "        predicted_counts.append(counts)\n",
    "        iou_score = bb_intersection_over_union(boxA=predicted_box, boxB=annotated_box)\n",
    "        iou_scores.append(iou_score)\n",
    "        print(\"IOU Score:\", iou_score)\n",
    "\n",
    "        print()\n",
    "    cv2.destroyAllWindows()"
   ]
  },
  {
   "cell_type": "code",
   "execution_count": 104,
   "metadata": {},
   "outputs": [
    {
     "name": "stdout",
     "output_type": "stream",
     "text": [
      "average IOU: 0.805932661840877\n",
      "Total annotated counts: 112\n",
      "Total predicted counts: 105\n",
      "Ratio of predicted to expected: 0.938\n"
     ]
    }
   ],
   "source": [
    "print(\"average IOU:\", np.mean(iou_scores))\n",
    "print(\"Total annotated counts:\", sum(annotated_counts))\n",
    "print(\"Total predicted counts:\", sum(predicted_counts))\n",
    "print(\n",
    "    f\"Ratio of predicted to expected: { sum(predicted_counts) / sum(annotated_counts):.3f}\"\n",
    ")"
   ]
  },
  {
   "cell_type": "code",
   "execution_count": null,
   "metadata": {},
   "outputs": [],
   "source": []
  },
  {
   "cell_type": "markdown",
   "metadata": {},
   "source": []
  }
 ],
 "metadata": {
  "kernelspec": {
   "display_name": "Python 3.9.5 64-bit",
   "language": "python",
   "name": "python3"
  },
  "language_info": {
   "codemirror_mode": {
    "name": "ipython",
    "version": 3
   },
   "file_extension": ".py",
   "mimetype": "text/x-python",
   "name": "python",
   "nbconvert_exporter": "python",
   "pygments_lexer": "ipython3",
   "version": "3.9.5"
  },
  "orig_nbformat": 4,
  "vscode": {
   "interpreter": {
    "hash": "aee8b7b246df8f9039afb4144a1f6fd8d2ca17a180786b69acc140d282b71a49"
   }
  }
 },
 "nbformat": 4,
 "nbformat_minor": 2
}
