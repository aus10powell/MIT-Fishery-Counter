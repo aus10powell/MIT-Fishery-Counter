{
 "cells": [
  {
   "cell_type": "markdown",
   "metadata": {},
   "source": [
    "# Training Notebook"
   ]
  },
  {
   "cell_type": "code",
   "execution_count": null,
   "metadata": {},
   "outputs": [],
   "source": [
    "import glob\n",
    "import os\n",
    "\n",
    "import cv2\n",
    "\n",
    "import inference_utils\n",
    "\n",
    "#cwd = os.path.abspath(os.path.dirname(__file__))\n",
    "STATIC_FOLDER = os.path.abspath(os.path.join(\".\", \"static\"))\n",
    "images = glob.glob(os.path.join(STATIC_FOLDER,\"test_images/*.jpg\"))"
   ]
  },
  {
   "cell_type": "code",
   "execution_count": 16,
   "metadata": {},
   "outputs": [
    {
     "data": {
      "text/plain": [
       "['.DS_Store', 'Herring', 'HabCam']"
      ]
     },
     "execution_count": 16,
     "metadata": {},
     "output_type": "execute_result"
    }
   ],
   "source": [
    "WEIGHTS_DIR = os.path.join(\"..\",\"weights_and_config\")\n",
    "os.listdir(WEIGHTS_DIR)\n",
    "\n"
   ]
  },
  {
   "cell_type": "code",
   "execution_count": 17,
   "metadata": {},
   "outputs": [
    {
     "name": "stdout",
     "output_type": "stream",
     "text": [
      "14 images\n"
     ]
    }
   ],
   "source": [
    "DATA_DIR = os.path.join(\"..\",\"data\",\"rv_boxed_herring\")\n",
    "WEIGHTS_DIR = os.path.join(\"..\",\"weights_and_config\")\n",
    "HERRING_WEIGHTS = os.path.join(WEIGHTS_DIR,\"Herring\")\n",
    "\n",
    "images = glob.glob(os.path.join(DATA_DIR,\"Images/*.JPG\")) + glob.glob(os.path.join(DATA_DIR,\"Images/*.jpg\"))\n",
    "print(\"{} images\".format(len(images)))"
   ]
  },
  {
   "cell_type": "code",
   "execution_count": 20,
   "metadata": {},
   "outputs": [
    {
     "name": "stdout",
     "output_type": "stream",
     "text": [
      "1944 1944\n",
      "[0.01990439 0.05366024 0.03635962 0.09902024 0.8128463  0.8128463 ]\n",
      "[0.10354754 0.77304107 0.12694632 0.05452061 0.6760674  0.6760674 ]\n",
      "BOXES [[4, 8, 94, 192], [103, 1449, 329, 105]] [0 1] [0, 0]\n",
      "counts 2\n",
      "1800 1800\n"
     ]
    },
    {
     "name": "stderr",
     "output_type": "stream",
     "text": [
      "[ERROR:0@594.833] global /Users/runner/work/opencv-python/opencv-python/opencv/modules/dnn/src/net_impl.cpp (1171) getLayerShapesRecursively OPENCV/DNN: [Reorg]:(reorg_27): getMemoryShapes() throws exception. inputs=1 outputs=1/1 blobs=0\n",
      "[ERROR:0@594.833] global /Users/runner/work/opencv-python/opencv-python/opencv/modules/dnn/src/net_impl.cpp (1174) getLayerShapesRecursively     input[0] = [ 1 64 113 113 ]\n",
      "[ERROR:0@594.833] global /Users/runner/work/opencv-python/opencv-python/opencv/modules/dnn/src/net_impl.cpp (1178) getLayerShapesRecursively     output[0] = [ 1 256 56 56 ]\n",
      "[ERROR:0@594.833] global /Users/runner/work/opencv-python/opencv-python/opencv/modules/dnn/src/net_impl.cpp (1184) getLayerShapesRecursively Exception message: OpenCV(4.6.0) /Users/runner/work/opencv-python/opencv-python/opencv/modules/dnn/src/layers/reorg_layer.cpp:99: error: (-215:Assertion failed) total(outputs[0]) == total(inputs[0]) in function 'getMemoryShapes'\n",
      "\n"
     ]
    },
    {
     "ename": "error",
     "evalue": "OpenCV(4.6.0) /Users/runner/work/opencv-python/opencv-python/opencv/modules/dnn/src/layers/reorg_layer.cpp:99: error: (-215:Assertion failed) total(outputs[0]) == total(inputs[0]) in function 'getMemoryShapes'\n",
     "output_type": "error",
     "traceback": [
      "\u001b[0;31m---------------------------------------------------------------------------\u001b[0m",
      "\u001b[0;31merror\u001b[0m                                     Traceback (most recent call last)",
      "\u001b[1;32m/Users/apowell/Documents/Projects/MIT-Fishery-Counter/code/training.ipynb Cell 5\u001b[0m in \u001b[0;36m<cell line: 16>\u001b[0;34m()\u001b[0m\n\u001b[1;32m     <a href='vscode-notebook-cell:/Users/apowell/Documents/Projects/MIT-Fishery-Counter/code/training.ipynb#W1sZmlsZQ%3D%3D?line=35'>36</a>\u001b[0m net\u001b[39m.\u001b[39msetInput(blob)\n\u001b[1;32m     <a href='vscode-notebook-cell:/Users/apowell/Documents/Projects/MIT-Fishery-Counter/code/training.ipynb#W1sZmlsZQ%3D%3D?line=37'>38</a>\u001b[0m \u001b[39m# Runs the forward pass to get output of the output layers\u001b[39;00m\n\u001b[0;32m---> <a href='vscode-notebook-cell:/Users/apowell/Documents/Projects/MIT-Fishery-Counter/code/training.ipynb#W1sZmlsZQ%3D%3D?line=38'>39</a>\u001b[0m outs \u001b[39m=\u001b[39m net\u001b[39m.\u001b[39;49mforward(inference_utils\u001b[39m.\u001b[39;49mget_outputs_names(net\u001b[39m=\u001b[39;49mnet))\n\u001b[1;32m     <a href='vscode-notebook-cell:/Users/apowell/Documents/Projects/MIT-Fishery-Counter/code/training.ipynb#W1sZmlsZQ%3D%3D?line=40'>41</a>\u001b[0m \u001b[39m# Remove the bounding boxes with low confidence\u001b[39;00m\n\u001b[1;32m     <a href='vscode-notebook-cell:/Users/apowell/Documents/Projects/MIT-Fishery-Counter/code/training.ipynb#W1sZmlsZQ%3D%3D?line=41'>42</a>\u001b[0m counts \u001b[39m=\u001b[39m inference_utils\u001b[39m.\u001b[39mpostprocess(\n\u001b[1;32m     <a href='vscode-notebook-cell:/Users/apowell/Documents/Projects/MIT-Fishery-Counter/code/training.ipynb#W1sZmlsZQ%3D%3D?line=42'>43</a>\u001b[0m     frame\u001b[39m=\u001b[39mframe,\n\u001b[1;32m     <a href='vscode-notebook-cell:/Users/apowell/Documents/Projects/MIT-Fishery-Counter/code/training.ipynb#W1sZmlsZQ%3D%3D?line=43'>44</a>\u001b[0m     outs\u001b[39m=\u001b[39mouts,\n\u001b[0;32m   (...)\u001b[0m\n\u001b[1;32m     <a href='vscode-notebook-cell:/Users/apowell/Documents/Projects/MIT-Fishery-Counter/code/training.ipynb#W1sZmlsZQ%3D%3D?line=47'>48</a>\u001b[0m     classes\u001b[39m=\u001b[39mclasses,\n\u001b[1;32m     <a href='vscode-notebook-cell:/Users/apowell/Documents/Projects/MIT-Fishery-Counter/code/training.ipynb#W1sZmlsZQ%3D%3D?line=48'>49</a>\u001b[0m )\n",
      "\u001b[0;31merror\u001b[0m: OpenCV(4.6.0) /Users/runner/work/opencv-python/opencv-python/opencv/modules/dnn/src/layers/reorg_layer.cpp:99: error: (-215:Assertion failed) total(outputs[0]) == total(inputs[0]) in function 'getMemoryShapes'\n"
     ]
    }
   ],
   "source": [
    "\n",
    "## Initialize the parameters\n",
    "# Confidence threshold\n",
    "conf_threshold = 0.5\n",
    "# Non-maximum suppression threshold (maximum bounding box)\n",
    "nms_threshold = 0.05\n",
    "input_width = 416 # Width of network's input image\n",
    "input_height = 416  # Height of network's input image\n",
    "\n",
    "# Load class name\n",
    "classes = \"Herring\"\n",
    "# Give the configuration and weight files for the model and load the network using them.\n",
    "modelConfiguration = os.path.join(HERRING_WEIGHTS,\"herring.cfg\")\n",
    "modelWeights = os.path.join(HERRING_WEIGHTS,\"herring_final.weights\") \n",
    "net = cv2.dnn.readNetFromDarknet(modelConfiguration, modelWeights)\n",
    "\n",
    "for herring_image in images:\n",
    "\n",
    "\n",
    "    frame = cv2.imread(herring_image)\n",
    "    cv2.imshow('dst_rt', frame)\n",
    "    # # Get frame from the video\n",
    "    # hasFrame, frame = cap.read()\n",
    "\n",
    "    input_width,input_height,_ = frame.shape\n",
    "    input_width = input_height = min(input_width,input_height)\n",
    "    #input_width = 416  # Width of network's input image\n",
    "    #input_height = 416  # Height of network's input image\n",
    "\n",
    "    print(input_height,input_width)\n",
    "    # Create a 4D blob from a frame.\n",
    "    blob = cv2.dnn.blobFromImage(\n",
    "        frame, 1 / 255, (input_width, input_height), [0, 0, 0], 1, crop=False\n",
    "    )\n",
    "\n",
    "    # Sets the input to the network\n",
    "    net.setInput(blob)\n",
    "\n",
    "    # Runs the forward pass to get output of the output layers\n",
    "    outs = net.forward(inference_utils.get_outputs_names(net=net))\n",
    "\n",
    "    # Remove the bounding boxes with low confidence\n",
    "    counts = inference_utils.postprocess(\n",
    "        frame=frame,\n",
    "        outs=outs,\n",
    "        tracker=None,\n",
    "        conf_threshold=conf_threshold,\n",
    "        nms_threshold=nms_threshold,\n",
    "        classes=classes,\n",
    "    )\n",
    "#cv2.waitKey(0)\n",
    "cv2.destroyAllWindows()\n",
    "print(counts)"
   ]
  },
  {
   "cell_type": "markdown",
   "metadata": {},
   "source": []
  }
 ],
 "metadata": {
  "kernelspec": {
   "display_name": "Python 3.10.6 ('python310')",
   "language": "python",
   "name": "python3"
  },
  "language_info": {
   "codemirror_mode": {
    "name": "ipython",
    "version": 3
   },
   "file_extension": ".py",
   "mimetype": "text/x-python",
   "name": "python",
   "nbconvert_exporter": "python",
   "pygments_lexer": "ipython3",
   "version": "3.10.6"
  },
  "orig_nbformat": 4,
  "vscode": {
   "interpreter": {
    "hash": "31a7b1cb5f073f7a7d37b3db504c6954ce2b88e0f82e412b65ad0b5f2dd17394"
   }
  }
 },
 "nbformat": 4,
 "nbformat_minor": 2
}
