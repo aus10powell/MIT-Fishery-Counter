{
 "cells": [
  {
   "cell_type": "markdown",
   "metadata": {},
   "source": [
    "# Training Notebook"
   ]
  },
  {
   "cell_type": "code",
   "execution_count": 1,
   "metadata": {},
   "outputs": [],
   "source": [
    "import glob\n",
    "import os\n",
    "\n",
    "import cv2\n",
    "import xml.etree.ElementTree as ET\n",
    "\n",
    "import inference_utils"
   ]
  },
  {
   "cell_type": "code",
   "execution_count": 2,
   "metadata": {},
   "outputs": [],
   "source": [
    "class FishCounter(object):\n",
    "    def __init__(self,model_config,model_weights):\n",
    "        self.net = cv2.dnn.readNetFromDarknet(model_config, model_weights)\n",
    "        self.input_width = 416\n",
    "        self.input_height = 416\n",
    "\n",
    "    def inference(self,frame):\n",
    "        \"\"\"Run inference on single frame.\"\"\"\n",
    "        # Create a 4D blob from a frame.\n",
    "        blob = cv2.dnn.blobFromImage(\n",
    "            frame, 1 / 255, (self.input_width, self.input_height), [0, 0, 0], 1, crop=False\n",
    "        )\n",
    "\n",
    "        # Sets the input to the network\n",
    "        self.net.setInput(blob)\n",
    "\n",
    "        # Runs the forward pass to get output of the output layers\n",
    "        outs = self.net.forward(inference_utils.get_outputs_names(net=self.net))\n",
    "\n",
    "    def annotated_frame(self):\n",
    "        \"\"\"Returns main frame with fish highlighted.\"\"\"\n",
    "        frame = self.frame.copy()"
   ]
  },
  {
   "cell_type": "code",
   "execution_count": 3,
   "metadata": {},
   "outputs": [
    {
     "ename": "NameError",
     "evalue": "name 'path' is not defined",
     "output_type": "error",
     "traceback": [
      "\u001b[0;31m---------------------------------------------------------------------------\u001b[0m",
      "\u001b[0;31mNameError\u001b[0m                                 Traceback (most recent call last)",
      "\u001b[1;32m/Users/apowell/Documents/Projects/MIT-Fishery-Counter/code/training.ipynb Cell 4\u001b[0m in \u001b[0;36m<cell line: 1>\u001b[0;34m()\u001b[0m\n\u001b[0;32m----> <a href='vscode-notebook-cell:/Users/apowell/Documents/Projects/MIT-Fishery-Counter/code/training.ipynb#X20sZmlsZQ%3D%3D?line=0'>1</a>\u001b[0m fullname \u001b[39m=\u001b[39m os\u001b[39m.\u001b[39mpath\u001b[39m.\u001b[39mjoin(path, filename)\n\u001b[1;32m      <a href='vscode-notebook-cell:/Users/apowell/Documents/Projects/MIT-Fishery-Counter/code/training.ipynb#X20sZmlsZQ%3D%3D?line=1'>2</a>\u001b[0m tree \u001b[39m=\u001b[39m ET\u001b[39m.\u001b[39mparse(fullname)\n\u001b[1;32m      <a href='vscode-notebook-cell:/Users/apowell/Documents/Projects/MIT-Fishery-Counter/code/training.ipynb#X20sZmlsZQ%3D%3D?line=2'>3</a>\u001b[0m root \u001b[39m=\u001b[39m tree\u001b[39m.\u001b[39mgetroot()\n",
      "\u001b[0;31mNameError\u001b[0m: name 'path' is not defined"
     ]
    }
   ],
   "source": [
    "fullname = os.path.join(path, filename)\n",
    "tree = ET.parse(fullname)\n",
    "root = tree.getroot()"
   ]
  },
  {
   "cell_type": "code",
   "execution_count": 7,
   "metadata": {},
   "outputs": [
    {
     "name": "stdout",
     "output_type": "stream",
     "text": [
      "144 images. Annotations: 108\n"
     ]
    }
   ],
   "source": [
    "DATA_DIR = os.path.join(\"..\",\"data\",\"Herring\")\n",
    "\n",
    "TRAINING_DIR = os.path.join(DATA_DIR,\"Training\",\"IRWA 2017 (Large+annotations)\")\n",
    "TESTING_DIR = os.path.join(DATA_DIR,\"Testing\")\n",
    "\n",
    "\n",
    "os.path.isdir(DATA_DIR) # assertion that we are pointed to correct folder\n",
    "WEIGHTS_DIR = os.path.join(\"..\",\"weights_and_config\")\n",
    "HERRING_WEIGHTS = os.path.join(WEIGHTS_DIR,\"Herring\")\n",
    "\n",
    "\n",
    "images = glob.glob(os.path.join(TRAINING_DIR,\"Batch 1\",\"*.JPG\")) + glob.glob(os.path.join(TRAINING_DIR,\"Batch 1\",\"*.jpg\"))\n",
    "annotations = glob.glob(os.path.join(TRAINING_DIR,\"Batch 1 annotations\",\"*.xml\"))\n",
    "print(\"{} images. Annotations: {}\".format(len(images),len(annotations)))"
   ]
  },
  {
   "cell_type": "markdown",
   "metadata": {},
   "source": [
    "## Scoring annotations against inference\n",
    "**Requirements:** 2 folders: 1 with annotations (e.g. XML), 1 with images\n",
    "* **Steps:**\n",
    "  * 1) Run loop on images extracting predicted boxes from each image\n",
    "  * 2) Scan filenames until box is properly extracted\n",
    "  * 3) **Scoring Method:**\n",
    "    * For each annotation find closest/any overlapping boxes (scoring the greater of number of either the annotated or predicted set distinctly)\n",
    "    * Return average IOU for image\n",
    "    * Return total number of correctly detected fish"
   ]
  },
  {
   "cell_type": "code",
   "execution_count": 11,
   "metadata": {},
   "outputs": [
    {
     "name": "stdout",
     "output_type": "stream",
     "text": [
      "../data/Herring/Training/IRWA 2017 (Large+annotations)/Batch 1 annotations/2_2017-04-14_11-42-13_large.xml\n"
     ]
    },
    {
     "data": {
      "text/plain": [
       "(['56'], ['155'], ['135'], ['171'])"
      ]
     },
     "execution_count": 11,
     "metadata": {},
     "output_type": "execute_result"
    }
   ],
   "source": [
    "idx = 1\n",
    "print(annotations[idx])\n",
    "tree = ET.parse(annotations[idx])\n",
    "root = tree.getroot()\n",
    "\n",
    "xmins = []\n",
    "ymins = []\n",
    "xmaxs = []\n",
    "ymaxs = []\n",
    "for o in root.iter(\"object\"):\n",
    "    if o.find(\"name\").text == 'herring':\n",
    "        xmins.append(o[4][0].text)\n",
    "        ymins.append(o[4][1].text)\n",
    "        xmaxs.append(o[4][2].text)\n",
    "        ymaxs.append(o[4][3].text)\n",
    "xmins,xmaxs,ymins,ymaxs"
   ]
  },
  {
   "cell_type": "code",
   "execution_count": 36,
   "metadata": {},
   "outputs": [],
   "source": [
    "def bb_intersection_over_union(boxA, boxB):\n",
    "\t# determine the (x, y)-coordinates of the intersection rectangle\n",
    "\txA = max(boxA[0], boxB[0])\n",
    "\tyA = max(boxA[1], boxB[1])\n",
    "\txB = min(boxA[2], boxB[2])\n",
    "\tyB = min(boxA[3], boxB[3])\n",
    "\t# compute the area of intersection rectangle\n",
    "\tinterArea = max(0, xB - xA + 1) * max(0, yB - yA + 1)\n",
    "\t# compute the area of both the prediction and ground-truth\n",
    "\t# rectangles\n",
    "\tboxAArea = (boxA[2] - boxA[0] + 1) * (boxA[3] - boxA[1] + 1)\n",
    "\tboxBArea = (boxB[2] - boxB[0] + 1) * (boxB[3] - boxB[1] + 1)\n",
    "\t# compute the intersection over union by taking the intersection\n",
    "\t# area and dividing it by the sum of prediction + ground-truth\n",
    "\t# areas - the interesection area\n",
    "\treturn interArea / float(boxAArea + boxBArea - interArea)\n",
    "\n"
   ]
  },
  {
   "cell_type": "code",
   "execution_count": null,
   "metadata": {},
   "outputs": [],
   "source": [
    "# Scoring for one image\n",
    "for box in boxes:\n",
    "    boxA = \n",
    "    bb_intersection_over_union(boxA=,boxB=)"
   ]
  },
  {
   "cell_type": "code",
   "execution_count": 23,
   "metadata": {},
   "outputs": [
    {
     "data": {
      "text/plain": [
       "'../data/Herring/Training/IRWA 2017 (Large+annotations)/Batch 1 annotations/2_2017-04-13_12-26-28_large.xml'"
      ]
     },
     "execution_count": 23,
     "metadata": {},
     "output_type": "execute_result"
    }
   ],
   "source": [
    "annotations[idx]"
   ]
  },
  {
   "cell_type": "markdown",
   "metadata": {},
   "source": [
    "## Evaluation"
   ]
  },
  {
   "cell_type": "code",
   "execution_count": 21,
   "metadata": {},
   "outputs": [
    {
     "name": "stdout",
     "output_type": "stream",
     "text": [
      "../data/Herring/Training/IRWA 2017 (Large+annotations)/Batch 1/2_2017-04-13_12-26-28_large.jpg\n",
      "416 416\n",
      "[0.37753522 0.6553458  0.2568322  0.20009485 0.6747363  0.6747363 ]\n",
      "BOXES [[79, 133, 82, 48]] [0] [0]\n",
      "counts 1\n",
      "Counts: 1\n",
      "\n"
     ]
    }
   ],
   "source": [
    "\n",
    "## Initialize the parameters\n",
    "# Confidence threshold\n",
    "conf_threshold = 0.5\n",
    "# Non-maximum suppression threshold (maximum bounding box)\n",
    "nms_threshold = 0.05\n",
    "input_width = 416 # Width of network's input image\n",
    "input_height = 416  # Height of network's input image\n",
    "\n",
    "# Load class name\n",
    "classes = \"Herring\"\n",
    "# Give the configuration and weight files for the model and load the network using them.\n",
    "modelConfiguration = os.path.join(HERRING_WEIGHTS,\"herring.cfg\")\n",
    "modelWeights = os.path.join(HERRING_WEIGHTS,\"herring_final.weights\") \n",
    "net = cv2.dnn.readNetFromDarknet(modelConfiguration, modelWeights)\n",
    "\n",
    "for herring_image in images:\n",
    "\n",
    "    if not annotations[idx].split('/')[-1].split('.')[0] in herring_image:\n",
    "        continue\n",
    "\n",
    "    print(herring_image)\n",
    "    frame = cv2.imread(herring_image)\n",
    "    \n",
    "    # # Get frame from the video\n",
    "    # hasFrame, frame = cap.read()\n",
    "\n",
    "    input_width,input_height,_ = frame.shape\n",
    "    input_width = input_height = min(input_width,input_height)\n",
    "    input_width = 416  # Width of network's input image\n",
    "    input_height = 416  # Height of network's input image\n",
    "\n",
    "    print(input_height,input_width)\n",
    "    # Create a 4D blob from a frame.\n",
    "    blob = cv2.dnn.blobFromImage(\n",
    "        frame, 1 / 255, (input_width, input_height), [0, 0, 0], 1, crop=False\n",
    "    )\n",
    "    \n",
    "    # Sets the input to the network\n",
    "    net.setInput(blob)\n",
    "\n",
    "    # Runs the forward pass to get output of the output layers\n",
    "    outs = net.forward(inference_utils.get_outputs_names(net=net))\n",
    "    #break\n",
    "    # Remove the bounding boxes with low confidence\n",
    "    counts, boxes = inference_utils.postprocess(\n",
    "        frame=frame,\n",
    "        outs=outs,\n",
    "        tracker=None,\n",
    "        conf_threshold=conf_threshold,\n",
    "        nms_threshold=nms_threshold,\n",
    "        classes=classes,\n",
    "    )\n",
    "\n",
    "    \n",
    "    if herring_image == [i for i in images if '2_2017-04-16_15-30-08_large' in i][0]:\n",
    "        cv2.imshow(herring_image, frame)\n",
    "        print(boxes)\n",
    "        cv2.waitKey(0)\n",
    "    print(\"Counts:\",counts)\n",
    "    print()\n",
    "cv2.destroyAllWindows()"
   ]
  },
  {
   "cell_type": "markdown",
   "metadata": {},
   "source": []
  }
 ],
 "metadata": {
  "kernelspec": {
   "display_name": "Python 3.10.6 ('python310')",
   "language": "python",
   "name": "python3"
  },
  "language_info": {
   "codemirror_mode": {
    "name": "ipython",
    "version": 3
   },
   "file_extension": ".py",
   "mimetype": "text/x-python",
   "name": "python",
   "nbconvert_exporter": "python",
   "pygments_lexer": "ipython3",
   "version": "3.10.6"
  },
  "orig_nbformat": 4,
  "vscode": {
   "interpreter": {
    "hash": "31a7b1cb5f073f7a7d37b3db504c6954ce2b88e0f82e412b65ad0b5f2dd17394"
   }
  }
 },
 "nbformat": 4,
 "nbformat_minor": 2
}
