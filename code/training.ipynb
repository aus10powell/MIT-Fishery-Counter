{
 "cells": [
  {
   "cell_type": "markdown",
   "metadata": {},
   "source": [
    "# Training Notebook"
   ]
  },
  {
   "cell_type": "code",
   "execution_count": 80,
   "metadata": {},
   "outputs": [],
   "source": [
    "class FishCounter(object):\n",
    "    import cv2\n",
    "\n",
    "    def __init__(self, model_config, model_weights):\n",
    "        self.net = cv2.dnn.readNetFromDarknet(model_config, model_weights)\n",
    "        self.input_width = 416\n",
    "        self.input_height = 416\n",
    "\n",
    "    def inference(self, frame):\n",
    "        \"\"\"Run inference on single frame.\"\"\"\n",
    "        # Create a 4D blob from a frame.\n",
    "        blob = cv2.dnn.blobFromImage(\n",
    "            frame,\n",
    "            1 / 255,\n",
    "            (self.input_width, self.input_height),\n",
    "            [0, 0, 0],\n",
    "            1,\n",
    "            crop=False,\n",
    "        )\n",
    "\n",
    "        # Sets the input to the network\n",
    "        self.net.setInput(blob)\n",
    "\n",
    "        # Runs the forward pass to get output of the output layers\n",
    "        outs = self.net.forward(self._get_outputs_names(net=self.net))\n",
    "\n",
    "    def _get_outputs_names(net):\n",
    "        \"\"\"Get the names of the output layers.\"\"\"\n",
    "        # Get the names of all the layers in the network\n",
    "        layersNames = net.getLayerNames()\n",
    "        # Get the names of the output layers, i.e. the layers with unconnected outputs\n",
    "        return [layersNames[i - 1] for i in net.getUnconnectedOutLayers()]\n",
    "\n",
    "    def get_annotated_frame(self):\n",
    "        \"\"\"Returns main frame with fish highlighted.\"\"\"\n",
    "        frame = self.frame.copy()"
   ]
  },
  {
   "cell_type": "code",
   "execution_count": 81,
   "metadata": {},
   "outputs": [
    {
     "name": "stdout",
     "output_type": "stream",
     "text": [
      "The lab_black extension is already loaded. To reload it, use:\n",
      "  %reload_ext lab_black\n"
     ]
    }
   ],
   "source": [
    "import glob\n",
    "import os\n",
    "\n",
    "import cv2\n",
    "import xml.etree.ElementTree as ET\n",
    "\n",
    "import inference_utils\n",
    "\n",
    "## Displaying in-cell\n",
    "from IPython.display import Image\n",
    "import matplotlib.pyplot as plt\n",
    "\n",
    "%load_ext lab_black"
   ]
  },
  {
   "cell_type": "markdown",
   "metadata": {},
   "source": [
    "#### Set paths"
   ]
  },
  {
   "cell_type": "code",
   "execution_count": 82,
   "metadata": {},
   "outputs": [
    {
     "name": "stdout",
     "output_type": "stream",
     "text": [
      "144 images. Annotations: 108\n"
     ]
    }
   ],
   "source": [
    "DATA_DIR = os.path.join(\"..\", \"data\", \"Herring\")\n",
    "\n",
    "TRAINING_DIR = os.path.join(DATA_DIR, \"Training\", \"IRWA 2017 (Large+annotations)\")\n",
    "TESTING_DIR = os.path.join(DATA_DIR, \"Testing\")\n",
    "\n",
    "os.path.isdir(DATA_DIR)  # assertion that we are pointed to correct folder\n",
    "WEIGHTS_DIR = os.path.join(\"..\", \"weights_and_config\")\n",
    "HERRING_WEIGHTS = os.path.join(WEIGHTS_DIR, \"Herring\")\n",
    "\n",
    "# Load images and annotations\n",
    "images = glob.glob(os.path.join(TRAINING_DIR, \"Batch 1\", \"*.JPG\")) + glob.glob(\n",
    "    os.path.join(TRAINING_DIR, \"Batch 1\", \"*.jpg\")\n",
    ")\n",
    "annotations = glob.glob(os.path.join(TRAINING_DIR, \"Batch 1 annotations\", \"*.xml\"))\n",
    "print(\"{} images. Annotations: {}\".format(len(images), len(annotations)))"
   ]
  },
  {
   "cell_type": "markdown",
   "metadata": {},
   "source": [
    "## Scoring annotations against inference\n",
    "**Requirements:** 2 folders: 1 with annotations (e.g. XML), 1 with images\n",
    "* **Steps:**\n",
    "  * 1) Run loop on images extracting predicted boxes from each image\n",
    "  * 2) Scan filenames until box is properly extracted\n",
    "  * 3) **Scoring Method:**\n",
    "    * For each annotation find closest/any overlapping boxes (scoring the greater of number of either the annotated or predicted set distinctly)\n",
    "    * Return average IOU for image\n",
    "    * Return total number of correctly detected fish"
   ]
  },
  {
   "cell_type": "code",
   "execution_count": 83,
   "metadata": {},
   "outputs": [],
   "source": [
    "def bb_intersection_over_union(boxA, boxB):\n",
    "    # determine the (x, y)-coordinates of the intersection rectangle\n",
    "    xA = max(boxA[0], boxB[0])\n",
    "    yA = max(boxA[1], boxB[1])\n",
    "    xB = min(boxA[2], boxB[2])\n",
    "    yB = min(boxA[3], boxB[3])\n",
    "    # compute the area of intersection rectangle\n",
    "    interArea = max(0, xB - xA + 1) * max(0, yB - yA + 1)\n",
    "    print(interArea)\n",
    "    # compute the area of both the prediction and ground-truth\n",
    "    # rectangles\n",
    "    boxAArea = (boxA[2] - boxA[0] + 1) * (boxA[3] - boxA[1] + 1)\n",
    "    print(boxAArea)\n",
    "    boxBArea = (boxB[2] - boxB[0] + 1) * (boxB[3] - boxB[1] + 1)\n",
    "    print(boxBArea)\n",
    "    # compute the intersection over union by taking the intersection\n",
    "    # area and dividing it by the sum of prediction + ground-truth\n",
    "    # areas - the interesection area\n",
    "    return interArea / float(boxAArea + boxBArea - interArea)"
   ]
  },
  {
   "cell_type": "code",
   "execution_count": 84,
   "metadata": {},
   "outputs": [
    {
     "name": "stdout",
     "output_type": "stream",
     "text": [
      "0\n",
      "23859\n",
      "-1767\n"
     ]
    },
    {
     "data": {
      "text/plain": [
       "0.0"
      ]
     },
     "execution_count": 84,
     "metadata": {},
     "output_type": "execute_result"
    }
   ],
   "source": [
    "annotation_box = [eval(xmins[0]), eval(xmaxs[0]), eval(ymins[0]), eval(ymaxs[0])]\n",
    "\n",
    "inference_box = (\n",
    "    boxes[0][0],\n",
    "    boxes[0][1],\n",
    "    boxes[0][2] + boxes[0][0],\n",
    "    boxes[0][3] + boxes[0][1],\n",
    ")\n",
    "\n",
    "bb_intersection_over_union(boxA=inference_box, boxB=annotation_box)"
   ]
  },
  {
   "cell_type": "code",
   "execution_count": 85,
   "metadata": {},
   "outputs": [
    {
     "name": "stdout",
     "output_type": "stream",
     "text": [
      "../data/Herring/Training/IRWA 2017 (Large+annotations)/Batch 1/2_2017-04-13_14-58-23_large.jpg [[65, 127, 240, 98]]\n",
      "../data/Herring/Training/IRWA 2017 (Large+annotations)/Batch 1 annotations/2_2017-04-13_14-58-23_large.xml\n",
      "['24'] ['193'] ['116'] ['173']\n"
     ]
    },
    {
     "data": {
      "text/plain": [
       "24"
      ]
     },
     "execution_count": 85,
     "metadata": {},
     "output_type": "execute_result"
    }
   ],
   "source": [
    "print(herring_image, boxes)\n",
    "idx = [\n",
    "    i\n",
    "    for i in range(len(annotations))\n",
    "    if herring_image.split(\"/\")[-1].split(\".\")[0] in annotations[i]\n",
    "][0]\n",
    "\n",
    "print(annotations[idx])\n",
    "tree = ET.parse(annotations[idx])\n",
    "root = tree.getroot()\n",
    "\n",
    "xmins = []\n",
    "ymins = []\n",
    "xmaxs = []\n",
    "ymaxs = []\n",
    "for o in root.iter(\"object\"):\n",
    "    if o.find(\"name\").text == \"herring\":\n",
    "        xmins.append(o[4][0].text)\n",
    "        ymins.append(o[4][1].text)\n",
    "        xmaxs.append(o[4][2].text)\n",
    "        ymaxs.append(o[4][3].text)\n",
    "print(xmins, xmaxs, ymins, ymaxs)\n",
    "eval(xmins[0])"
   ]
  },
  {
   "cell_type": "code",
   "execution_count": 106,
   "metadata": {},
   "outputs": [
    {
     "data": {
      "image/png": "[encoded data removed]",
      "text/plain": [
       "<Figure size 432x288 with 1 Axes>"
      ]
     },
     "metadata": {
      "needs_background": "light"
     },
     "output_type": "display_data"
    }
   ],
   "source": [
    "def display_image_comparison(img_path=None, annotated_box=None, predicted_box=None):\n",
    "    import matplotlib.pyplot as plt\n",
    "    import cv2\n",
    "\n",
    "    \"\"\"Display an image with optional annotated class and predicted class within notebook for comparison.\n",
    "    image_path: image path to location in memory\n",
    "    annotated_box: corners in format xmin,xmax,ymin,ymax\n",
    "    \"\"\"\n",
    "\n",
    "    label = \"herring\"\n",
    "\n",
    "    img_name = img_path.split(\"/\")[-1].split(\".\")[0]\n",
    "    frame = cv2.imread(img_path)\n",
    "\n",
    "    xmin, xmax, ymin, ymax = (\n",
    "        eval(xmins[0]),\n",
    "        eval(xmaxs[0]),\n",
    "        eval(ymins[0]),\n",
    "        eval(ymaxs[0]),\n",
    "    )  # Annotated\n",
    "    cv2.rectangle(\n",
    "        frame, (xmin, ymin), (xmax, ymax), (255, 178, 50), 2\n",
    "    )  # cv.rectangle(frame, (left, top), (right, bottom), (255, 178, 50), 3)\n",
    "\n",
    "    # Annotated\n",
    "    cv2.rectangle(frame, (xmin, ymin), (xmax, ymax), (255, 178, 50), 2)\n",
    "    # Predicted\n",
    "    if predicted_box is not None:\n",
    "        cv2.rectangle(frame, (left, top), (right, bottom), (255, 178, 50), 3)\n",
    "    cv2.putText(\n",
    "        frame,\n",
    "        \"Annotated \" + label,\n",
    "        ((xmin), ymin),\n",
    "        cv2.FONT_HERSHEY_SIMPLEX,\n",
    "        0.55,\n",
    "        (255, 160, 122),\n",
    "        1,\n",
    "    )\n",
    "    plt.imshow(frame)\n",
    "    plt.title(img_name)\n",
    "    plt.show()\n",
    "\n",
    "\n",
    "annotated_box = xmin, xmax, ymin, ymax = (\n",
    "    eval(xmins[0]),\n",
    "    eval(xmaxs[0]),\n",
    "    eval(ymins[0]),\n",
    "    eval(ymaxs[0]),\n",
    ")\n",
    "# # xmin, ymax, xmax, ymin = (\n",
    "# #     boxes[0][0],\n",
    "# #     boxes[0][1],\n",
    "# #     boxes[0][0] + boxes[0][2],\n",
    "# #     boxes[0][1] - boxes[0][3],\n",
    "# # )\n",
    "\n",
    "\n",
    "display_image_comparison(img_path=herring_image, annotated_box=annotated_box)"
   ]
  },
  {
   "cell_type": "markdown",
   "metadata": {},
   "source": [
    "## Evaluation"
   ]
  },
  {
   "cell_type": "code",
   "execution_count": 73,
   "metadata": {},
   "outputs": [
    {
     "name": "stdout",
     "output_type": "stream",
     "text": [
      "../data/Herring/Training/IRWA 2017 (Large+annotations)/Batch 1/2_2017-04-16_15-30-08_large.jpg\n",
      "416 416\n",
      "BOXES [] () []\n",
      "counts 0\n",
      "[]\n",
      "Counts: 0\n",
      "\n",
      "../data/Herring/Training/IRWA 2017 (Large+annotations)/Batch 1/2_2017-04-14_11-42-13_large.jpg\n",
      "416 416\n",
      "[0.32865852 0.6587873  0.30487534 0.20038645 0.8971311  0.8971311 ]\n",
      "BOXES [[56, 134, 97, 48]] [0] [0]\n",
      "counts 1\n",
      "[[56, 134, 97, 48]]\n",
      "Counts: 1\n",
      "\n",
      "../data/Herring/Training/IRWA 2017 (Large+annotations)/Batch 1/2_2017-04-14_10-51-06_large.jpg\n",
      "416 416\n",
      "[0.1878179  0.57741845 0.33692092 0.23485109 0.91039896 0.91039896]\n",
      "BOXES [[6, 110, 107, 56]] [0] [0]\n",
      "counts 1\n",
      "[[6, 110, 107, 56]]\n",
      "Counts: 1\n",
      "\n",
      "../data/Herring/Training/IRWA 2017 (Large+annotations)/Batch 1/2_2017-04-16_15-18-09_large.jpg\n",
      "416 416\n",
      "BOXES [] () []\n",
      "counts 0\n",
      "[]\n",
      "Counts: 0\n",
      "\n",
      "../data/Herring/Training/IRWA 2017 (Large+annotations)/Batch 1/2_2017-04-14_11-30-46_large.jpg\n",
      "416 416\n",
      "[0.3371907  0.57600754 0.24674599 0.17456466 0.8827041  0.8827041 ]\n",
      "BOXES [[68, 117, 78, 41]] [0] [0]\n",
      "counts 1\n",
      "[[68, 117, 78, 41]]\n",
      "Counts: 1\n",
      "\n",
      "../data/Herring/Training/IRWA 2017 (Large+annotations)/Batch 1/2_2017-04-15_15-47-53_large.jpg\n",
      "416 416\n",
      "[0.57825655 0.73355365 0.7512411  0.4102464  0.61980534 0.61980534]\n",
      "BOXES [[65, 127, 240, 98]] [0] [0]\n",
      "counts 1\n",
      "[[65, 127, 240, 98]]\n",
      "Counts: 1\n",
      "\n",
      "../data/Herring/Training/IRWA 2017 (Large+annotations)/Batch 1/2_2017-04-13_14-58-23_large.jpg\n",
      "416 416\n"
     ]
    },
    {
     "ename": "KeyboardInterrupt",
     "evalue": "",
     "output_type": "error",
     "traceback": [
      "\u001b[0;31m---------------------------------------------------------------------------\u001b[0m",
      "\u001b[0;31mKeyboardInterrupt\u001b[0m                         Traceback (most recent call last)",
      "\u001b[1;32m/Users/apowell/Documents/Projects/MIT-Fishery-Counter/code/training.ipynb Cell 13\u001b[0m in \u001b[0;36m<cell line: 16>\u001b[0;34m()\u001b[0m\n\u001b[1;32m     <a href='vscode-notebook-cell:/Users/apowell/Documents/Projects/MIT-Fishery-Counter/code/training.ipynb#X16sZmlsZQ%3D%3D?line=44'>45</a>\u001b[0m outs \u001b[39m=\u001b[39m net\u001b[39m.\u001b[39mforward(inference_utils\u001b[39m.\u001b[39mget_outputs_names(net\u001b[39m=\u001b[39mnet))\n\u001b[1;32m     <a href='vscode-notebook-cell:/Users/apowell/Documents/Projects/MIT-Fishery-Counter/code/training.ipynb#X16sZmlsZQ%3D%3D?line=45'>46</a>\u001b[0m \u001b[39m# break\u001b[39;00m\n\u001b[1;32m     <a href='vscode-notebook-cell:/Users/apowell/Documents/Projects/MIT-Fishery-Counter/code/training.ipynb#X16sZmlsZQ%3D%3D?line=46'>47</a>\u001b[0m \u001b[39m# Remove the bounding boxes with low confidence\u001b[39;00m\n\u001b[0;32m---> <a href='vscode-notebook-cell:/Users/apowell/Documents/Projects/MIT-Fishery-Counter/code/training.ipynb#X16sZmlsZQ%3D%3D?line=47'>48</a>\u001b[0m counts, boxes \u001b[39m=\u001b[39m inference_utils\u001b[39m.\u001b[39;49mpostprocess(\n\u001b[1;32m     <a href='vscode-notebook-cell:/Users/apowell/Documents/Projects/MIT-Fishery-Counter/code/training.ipynb#X16sZmlsZQ%3D%3D?line=48'>49</a>\u001b[0m     frame\u001b[39m=\u001b[39;49mframe,\n\u001b[1;32m     <a href='vscode-notebook-cell:/Users/apowell/Documents/Projects/MIT-Fishery-Counter/code/training.ipynb#X16sZmlsZQ%3D%3D?line=49'>50</a>\u001b[0m     outs\u001b[39m=\u001b[39;49mouts,\n\u001b[1;32m     <a href='vscode-notebook-cell:/Users/apowell/Documents/Projects/MIT-Fishery-Counter/code/training.ipynb#X16sZmlsZQ%3D%3D?line=50'>51</a>\u001b[0m     tracker\u001b[39m=\u001b[39;49m\u001b[39mNone\u001b[39;49;00m,\n\u001b[1;32m     <a href='vscode-notebook-cell:/Users/apowell/Documents/Projects/MIT-Fishery-Counter/code/training.ipynb#X16sZmlsZQ%3D%3D?line=51'>52</a>\u001b[0m     conf_threshold\u001b[39m=\u001b[39;49mconf_threshold,\n\u001b[1;32m     <a href='vscode-notebook-cell:/Users/apowell/Documents/Projects/MIT-Fishery-Counter/code/training.ipynb#X16sZmlsZQ%3D%3D?line=52'>53</a>\u001b[0m     nms_threshold\u001b[39m=\u001b[39;49mnms_threshold,\n\u001b[1;32m     <a href='vscode-notebook-cell:/Users/apowell/Documents/Projects/MIT-Fishery-Counter/code/training.ipynb#X16sZmlsZQ%3D%3D?line=53'>54</a>\u001b[0m     classes\u001b[39m=\u001b[39;49mclasses,\n\u001b[1;32m     <a href='vscode-notebook-cell:/Users/apowell/Documents/Projects/MIT-Fishery-Counter/code/training.ipynb#X16sZmlsZQ%3D%3D?line=54'>55</a>\u001b[0m )\n\u001b[1;32m     <a href='vscode-notebook-cell:/Users/apowell/Documents/Projects/MIT-Fishery-Counter/code/training.ipynb#X16sZmlsZQ%3D%3D?line=56'>57</a>\u001b[0m \u001b[39mprint\u001b[39m(boxes)\n\u001b[1;32m     <a href='vscode-notebook-cell:/Users/apowell/Documents/Projects/MIT-Fishery-Counter/code/training.ipynb#X16sZmlsZQ%3D%3D?line=57'>58</a>\u001b[0m \u001b[39m# cv2.imshow(herring_image, frame)\u001b[39;00m\n\u001b[1;32m     <a href='vscode-notebook-cell:/Users/apowell/Documents/Projects/MIT-Fishery-Counter/code/training.ipynb#X16sZmlsZQ%3D%3D?line=58'>59</a>\u001b[0m \u001b[39m# cv2.waitKey(0)\u001b[39;00m\n",
      "File \u001b[0;32m~/Documents/Projects/MIT-Fishery-Counter/code/inference_utils.py:91\u001b[0m, in \u001b[0;36mpostprocess\u001b[0;34m(frame, outs, conf_threshold, tracker, nms_threshold, classes)\u001b[0m\n\u001b[1;32m     88\u001b[0m \u001b[39mfor\u001b[39;00m detection \u001b[39min\u001b[39;00m out:  \u001b[39m# Scan through\u001b[39;00m\n\u001b[1;32m     89\u001b[0m     scores \u001b[39m=\u001b[39m detection[\u001b[39m5\u001b[39m:]\n\u001b[0;32m---> 91\u001b[0m     class_id \u001b[39m=\u001b[39m np\u001b[39m.\u001b[39;49margmax(scores)  \u001b[39m# class with highest score\u001b[39;00m\n\u001b[1;32m     92\u001b[0m     confidence \u001b[39m=\u001b[39m scores[class_id]  \u001b[39m# confidence score for class\u001b[39;00m\n\u001b[1;32m     93\u001b[0m     \u001b[39mif\u001b[39;00m confidence \u001b[39m>\u001b[39m conf_threshold:\n",
      "File \u001b[0;32m<__array_function__ internals>:180\u001b[0m, in \u001b[0;36margmax\u001b[0;34m(*args, **kwargs)\u001b[0m\n",
      "File \u001b[0;32m/usr/local/lib/python3.9/site-packages/numpy/core/fromnumeric.py:1127\u001b[0m, in \u001b[0;36margmax\u001b[0;34m(a, axis, out, keepdims)\u001b[0m\n\u001b[1;32m   1123\u001b[0m \u001b[39mdef\u001b[39;00m \u001b[39m_argmax_dispatcher\u001b[39m(a, axis\u001b[39m=\u001b[39m\u001b[39mNone\u001b[39;00m, out\u001b[39m=\u001b[39m\u001b[39mNone\u001b[39;00m, \u001b[39m*\u001b[39m, keepdims\u001b[39m=\u001b[39mnp\u001b[39m.\u001b[39m_NoValue):\n\u001b[1;32m   1124\u001b[0m     \u001b[39mreturn\u001b[39;00m (a, out)\n\u001b[0;32m-> 1127\u001b[0m \u001b[39m@array_function_dispatch\u001b[39m(_argmax_dispatcher)\n\u001b[1;32m   1128\u001b[0m \u001b[39mdef\u001b[39;00m \u001b[39margmax\u001b[39m(a, axis\u001b[39m=\u001b[39m\u001b[39mNone\u001b[39;00m, out\u001b[39m=\u001b[39m\u001b[39mNone\u001b[39;00m, \u001b[39m*\u001b[39m, keepdims\u001b[39m=\u001b[39mnp\u001b[39m.\u001b[39m_NoValue):\n\u001b[1;32m   1129\u001b[0m     \u001b[39m\"\"\"\u001b[39;00m\n\u001b[1;32m   1130\u001b[0m \u001b[39m    Returns the indices of the maximum values along an axis.\u001b[39;00m\n\u001b[1;32m   1131\u001b[0m \n\u001b[0;32m   (...)\u001b[0m\n\u001b[1;32m   1213\u001b[0m \u001b[39m    (2, 1, 4)\u001b[39;00m\n\u001b[1;32m   1214\u001b[0m \u001b[39m    \"\"\"\u001b[39;00m\n\u001b[1;32m   1215\u001b[0m     kwds \u001b[39m=\u001b[39m {\u001b[39m'\u001b[39m\u001b[39mkeepdims\u001b[39m\u001b[39m'\u001b[39m: keepdims} \u001b[39mif\u001b[39;00m keepdims \u001b[39mis\u001b[39;00m \u001b[39mnot\u001b[39;00m np\u001b[39m.\u001b[39m_NoValue \u001b[39melse\u001b[39;00m {}\n",
      "\u001b[0;31mKeyboardInterrupt\u001b[0m: "
     ]
    }
   ],
   "source": [
    "## Initialize the parameters\n",
    "# Confidence threshold\n",
    "conf_threshold = 0.5\n",
    "# Non-maximum suppression threshold (maximum bounding box)\n",
    "nms_threshold = 0.05\n",
    "input_width = 416  # Width of network's input image\n",
    "input_height = 416  # Height of network's input image\n",
    "\n",
    "# Load class name\n",
    "classes = \"Herring\"\n",
    "# Give the configuration and weight files for the model and load the network using them.\n",
    "modelConfiguration = os.path.join(HERRING_WEIGHTS, \"herring.cfg\")\n",
    "modelWeights = os.path.join(HERRING_WEIGHTS, \"herring_final.weights\")\n",
    "net = cv2.dnn.readNetFromDarknet(modelConfiguration, modelWeights)\n",
    "\n",
    "for a in annotations:\n",
    "    name = a.split(\"/\")[-1].split(\".\")[0]\n",
    "\n",
    "    for herring_image in images:\n",
    "\n",
    "        if name not in herring_image:\n",
    "            continue\n",
    "\n",
    "        print(herring_image)\n",
    "        frame = cv2.imread(herring_image)\n",
    "\n",
    "        # # Get frame from the video\n",
    "        # hasFrame, frame = cap.read()\n",
    "\n",
    "        input_width, input_height, _ = frame.shape\n",
    "        input_width = input_height = min(input_width, input_height)\n",
    "        input_width = 416  # Width of network's input image\n",
    "        input_height = 416  # Height of network's input image\n",
    "\n",
    "        print(input_height, input_width)\n",
    "        # Create a 4D blob from a frame.\n",
    "        blob = cv2.dnn.blobFromImage(\n",
    "            frame, 1 / 255, (input_width, input_height), [0, 0, 0], 1, crop=False\n",
    "        )\n",
    "\n",
    "        # Sets the input to the network\n",
    "        net.setInput(blob)\n",
    "\n",
    "        # Runs the forward pass to get output of the output layers\n",
    "        outs = net.forward(inference_utils.get_outputs_names(net=net))\n",
    "        # break\n",
    "        # Remove the bounding boxes with low confidence\n",
    "        counts, boxes = inference_utils.postprocess(\n",
    "            frame=frame,\n",
    "            outs=outs,\n",
    "            tracker=None,\n",
    "            conf_threshold=conf_threshold,\n",
    "            nms_threshold=nms_threshold,\n",
    "            classes=classes,\n",
    "        )\n",
    "\n",
    "        print(boxes)\n",
    "        # cv2.imshow(herring_image, frame)\n",
    "        # cv2.waitKey(0)\n",
    "        print(\"Counts:\", counts)\n",
    "        print()\n",
    "    cv2.destroyAllWindows()"
   ]
  },
  {
   "cell_type": "markdown",
   "metadata": {},
   "source": []
  }
 ],
 "metadata": {
  "kernelspec": {
   "display_name": "Python 3.9.5 64-bit",
   "language": "python",
   "name": "python3"
  },
  "language_info": {
   "codemirror_mode": {
    "name": "ipython",
    "version": 3
   },
   "file_extension": ".py",
   "mimetype": "text/x-python",
   "name": "python",
   "nbconvert_exporter": "python",
   "pygments_lexer": "ipython3",
   "version": "3.9.5"
  },
  "orig_nbformat": 4,
  "vscode": {
   "interpreter": {
    "hash": "aee8b7b246df8f9039afb4144a1f6fd8d2ca17a180786b69acc140d282b71a49"
   }
  }
 },
 "nbformat": 4,
 "nbformat_minor": 2
}
